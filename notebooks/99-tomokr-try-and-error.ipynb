{
 "cells": [
  {
   "cell_type": "markdown",
   "metadata": {},
   "source": [
    "# Salary Predictions Based on Job Descriptions - 99. try and error"
   ]
  },
  {
   "cell_type": "code",
   "execution_count": null,
   "metadata": {},
   "outputs": [],
   "source": [
    "# my info here\n",
    "__author__ = \"Tomo Shimo\"\n",
    "__email__ = \"tomo.krmr@gmail.com\""
   ]
  },
  {
   "cell_type": "code",
   "execution_count": 168,
   "metadata": {},
   "outputs": [],
   "source": [
    "%load_ext pycodestyle_magic\n",
    "%flake8_on"
   ]
  },
  {
   "cell_type": "markdown",
   "metadata": {},
   "source": [
    "As [the first notebook](./1-tomokr-EDA.ipynb), the baseline of MSE (Mean Squared Error) is 1288. (Linear model)"
   ]
  },
  {
   "cell_type": "code",
   "execution_count": 166,
   "metadata": {
    "scrolled": true
   },
   "outputs": [
    {
     "name": "stdout",
     "output_type": "stream",
     "text": [
      "The autoreload extension is already loaded. To reload it, use:\n",
      "  %reload_ext autoreload\n"
     ]
    }
   ],
   "source": [
    "# import libraries and modules\n",
    "import pandas as pd\n",
    "import sklearn as sk\n",
    "import numpy as np\n",
    "\n",
    "#Load the \"autoreload\" extension so that code can change\n",
    "%load_ext autoreload\n",
    "# always reload modules so that as you change code in src, it gets loaded\n",
    "%autoreload 2\n",
    "\n",
    "from src.data import load_data"
   ]
  },
  {
   "cell_type": "markdown",
   "metadata": {},
   "source": [
    "### load data"
   ]
  },
  {
   "cell_type": "code",
   "execution_count": 169,
   "metadata": {},
   "outputs": [],
   "source": [
    "output_path = '../data/interim/'\n",
    "df = load_data.load_data(output_path, 'data.csv')"
   ]
  },
  {
   "cell_type": "markdown",
   "metadata": {},
   "source": [
    "### ---- 6 Hypothesize solution ----"
   ]
  },
  {
   "cell_type": "markdown",
   "metadata": {},
   "source": [
    "## Model 1: Adding degree and jobtype as variables\n",
    "I think the degree and jobtype are also the key to predict the salary. It's because the means of salary and degree depend on what they are.\n",
    "\n",
    "I applied one-hot encoding to \"jobType\" and \"degree\".\n",
    "Then I predict the relationship between salary with variables, which are years of experience, degree and jobtype.\n",
    "\n",
    "## Model 2: Model1 + salary scaling\n",
    "At first, scale saraly, then use model 1.\n",
    "This is because the distribution of salary is skewed.\n",
    "\n",
    "## Model 3: All the features without companyID\n",
    "All the features without companyID are considered as linearly correlated with salary."
   ]
  },
  {
   "cell_type": "markdown",
   "metadata": {},
   "source": [
    "## Part 3 - DEVELOP"
   ]
  },
  {
   "cell_type": "markdown",
   "metadata": {},
   "source": [
    "You will cycle through creating features, tuning models, and training/validing models (steps 7-9) until you've reached your efficacy goal\n",
    "\n",
    "#### Your metric will be MSE and your goal is:\n",
    " - <360 for entry-level data science roles\n",
    " - <320 for senior data science roles"
   ]
  },
  {
   "cell_type": "markdown",
   "metadata": {},
   "source": [
    "### ---- 7 Engineer features  ----"
   ]
  },
  {
   "cell_type": "markdown",
   "metadata": {},
   "source": [
    "## Model 1"
   ]
  },
  {
   "cell_type": "code",
   "execution_count": 42,
   "metadata": {},
   "outputs": [],
   "source": [
    "df_model1 = df[['salary','degree','jobType','yearsExperience']]"
   ]
  },
  {
   "cell_type": "markdown",
   "metadata": {},
   "source": [
    "###  Transform categorical features into one-hot valiables"
   ]
  },
  {
   "cell_type": "code",
   "execution_count": 43,
   "metadata": {},
   "outputs": [],
   "source": [
    "df_jobType_labels = df_model1[['jobType']]"
   ]
  },
  {
   "cell_type": "code",
   "execution_count": 44,
   "metadata": {
    "scrolled": true
   },
   "outputs": [],
   "source": [
    "from sklearn.preprocessing import LabelBinarizer\n",
    "    \n",
    "encoder = LabelBinarizer()\n",
    "df_jobType_1hot = df_model1.join(pd.DataFrame(encoder.fit_transform(df_jobType_labels),\n",
    "                          columns=encoder.classes_, \n",
    "                          index=df.index))\n"
   ]
  },
  {
   "cell_type": "code",
   "execution_count": 45,
   "metadata": {},
   "outputs": [],
   "source": [
    "df_jobType_1hot = df_jobType_1hot.drop(\"jobType\", axis=1)"
   ]
  },
  {
   "cell_type": "code",
   "execution_count": 46,
   "metadata": {},
   "outputs": [],
   "source": [
    "df_degree_labels = df_model1[['degree']]"
   ]
  },
  {
   "cell_type": "code",
   "execution_count": 47,
   "metadata": {
    "scrolled": false
   },
   "outputs": [],
   "source": [
    "df_degree_1hot = df_jobType_1hot.join(pd.DataFrame(encoder.fit_transform(df_degree_labels),\n",
    "                          columns=encoder.classes_, \n",
    "                          index=df.index))\n",
    "df_degree_1hot = df_degree_1hot.drop(\"degree\", axis=1)"
   ]
  },
  {
   "cell_type": "code",
   "execution_count": 48,
   "metadata": {},
   "outputs": [],
   "source": [
    "target_model1 = df_degree_1hot['salary']\n",
    "features_model1 = df_degree_1hot.drop(\"salary\", axis=1)"
   ]
  },
  {
   "cell_type": "code",
   "execution_count": 49,
   "metadata": {
    "scrolled": true
   },
   "outputs": [
    {
     "data": {
      "text/plain": [
       "0         130\n",
       "1         101\n",
       "2         137\n",
       "3         142\n",
       "4         163\n",
       "         ... \n",
       "999990     88\n",
       "999991    160\n",
       "999992     64\n",
       "999993    149\n",
       "999994     88\n",
       "Name: salary, Length: 999995, dtype: int64"
      ]
     },
     "execution_count": 49,
     "metadata": {},
     "output_type": "execute_result"
    }
   ],
   "source": [
    "target_model1"
   ]
  },
  {
   "cell_type": "code",
   "execution_count": 50,
   "metadata": {
    "scrolled": true
   },
   "outputs": [
    {
     "data": {
      "text/html": [
       "<div>\n",
       "<style scoped>\n",
       "    .dataframe tbody tr th:only-of-type {\n",
       "        vertical-align: middle;\n",
       "    }\n",
       "\n",
       "    .dataframe tbody tr th {\n",
       "        vertical-align: top;\n",
       "    }\n",
       "\n",
       "    .dataframe thead th {\n",
       "        text-align: right;\n",
       "    }\n",
       "</style>\n",
       "<table border=\"1\" class=\"dataframe\">\n",
       "  <thead>\n",
       "    <tr style=\"text-align: right;\">\n",
       "      <th></th>\n",
       "      <th>yearsExperience</th>\n",
       "      <th>CEO</th>\n",
       "      <th>CFO</th>\n",
       "      <th>CTO</th>\n",
       "      <th>JANITOR</th>\n",
       "      <th>JUNIOR</th>\n",
       "      <th>MANAGER</th>\n",
       "      <th>SENIOR</th>\n",
       "      <th>VICE_PRESIDENT</th>\n",
       "      <th>BACHELORS</th>\n",
       "      <th>DOCTORAL</th>\n",
       "      <th>HIGH_SCHOOL</th>\n",
       "      <th>MASTERS</th>\n",
       "      <th>NONE</th>\n",
       "    </tr>\n",
       "  </thead>\n",
       "  <tbody>\n",
       "    <tr>\n",
       "      <td>0</td>\n",
       "      <td>10</td>\n",
       "      <td>0</td>\n",
       "      <td>1</td>\n",
       "      <td>0</td>\n",
       "      <td>0</td>\n",
       "      <td>0</td>\n",
       "      <td>0</td>\n",
       "      <td>0</td>\n",
       "      <td>0</td>\n",
       "      <td>0</td>\n",
       "      <td>0</td>\n",
       "      <td>0</td>\n",
       "      <td>1</td>\n",
       "      <td>0</td>\n",
       "    </tr>\n",
       "    <tr>\n",
       "      <td>1</td>\n",
       "      <td>3</td>\n",
       "      <td>1</td>\n",
       "      <td>0</td>\n",
       "      <td>0</td>\n",
       "      <td>0</td>\n",
       "      <td>0</td>\n",
       "      <td>0</td>\n",
       "      <td>0</td>\n",
       "      <td>0</td>\n",
       "      <td>0</td>\n",
       "      <td>0</td>\n",
       "      <td>1</td>\n",
       "      <td>0</td>\n",
       "      <td>0</td>\n",
       "    </tr>\n",
       "    <tr>\n",
       "      <td>2</td>\n",
       "      <td>10</td>\n",
       "      <td>0</td>\n",
       "      <td>0</td>\n",
       "      <td>0</td>\n",
       "      <td>0</td>\n",
       "      <td>0</td>\n",
       "      <td>0</td>\n",
       "      <td>0</td>\n",
       "      <td>1</td>\n",
       "      <td>0</td>\n",
       "      <td>1</td>\n",
       "      <td>0</td>\n",
       "      <td>0</td>\n",
       "      <td>0</td>\n",
       "    </tr>\n",
       "    <tr>\n",
       "      <td>3</td>\n",
       "      <td>8</td>\n",
       "      <td>0</td>\n",
       "      <td>0</td>\n",
       "      <td>0</td>\n",
       "      <td>0</td>\n",
       "      <td>0</td>\n",
       "      <td>1</td>\n",
       "      <td>0</td>\n",
       "      <td>0</td>\n",
       "      <td>0</td>\n",
       "      <td>1</td>\n",
       "      <td>0</td>\n",
       "      <td>0</td>\n",
       "      <td>0</td>\n",
       "    </tr>\n",
       "    <tr>\n",
       "      <td>4</td>\n",
       "      <td>8</td>\n",
       "      <td>0</td>\n",
       "      <td>0</td>\n",
       "      <td>0</td>\n",
       "      <td>0</td>\n",
       "      <td>0</td>\n",
       "      <td>0</td>\n",
       "      <td>0</td>\n",
       "      <td>1</td>\n",
       "      <td>1</td>\n",
       "      <td>0</td>\n",
       "      <td>0</td>\n",
       "      <td>0</td>\n",
       "      <td>0</td>\n",
       "    </tr>\n",
       "    <tr>\n",
       "      <td>...</td>\n",
       "      <td>...</td>\n",
       "      <td>...</td>\n",
       "      <td>...</td>\n",
       "      <td>...</td>\n",
       "      <td>...</td>\n",
       "      <td>...</td>\n",
       "      <td>...</td>\n",
       "      <td>...</td>\n",
       "      <td>...</td>\n",
       "      <td>...</td>\n",
       "      <td>...</td>\n",
       "      <td>...</td>\n",
       "      <td>...</td>\n",
       "      <td>...</td>\n",
       "    </tr>\n",
       "    <tr>\n",
       "      <td>999990</td>\n",
       "      <td>19</td>\n",
       "      <td>0</td>\n",
       "      <td>0</td>\n",
       "      <td>0</td>\n",
       "      <td>0</td>\n",
       "      <td>0</td>\n",
       "      <td>0</td>\n",
       "      <td>0</td>\n",
       "      <td>1</td>\n",
       "      <td>1</td>\n",
       "      <td>0</td>\n",
       "      <td>0</td>\n",
       "      <td>0</td>\n",
       "      <td>0</td>\n",
       "    </tr>\n",
       "    <tr>\n",
       "      <td>999991</td>\n",
       "      <td>12</td>\n",
       "      <td>0</td>\n",
       "      <td>0</td>\n",
       "      <td>1</td>\n",
       "      <td>0</td>\n",
       "      <td>0</td>\n",
       "      <td>0</td>\n",
       "      <td>0</td>\n",
       "      <td>0</td>\n",
       "      <td>0</td>\n",
       "      <td>0</td>\n",
       "      <td>1</td>\n",
       "      <td>0</td>\n",
       "      <td>0</td>\n",
       "    </tr>\n",
       "    <tr>\n",
       "      <td>999992</td>\n",
       "      <td>16</td>\n",
       "      <td>0</td>\n",
       "      <td>0</td>\n",
       "      <td>0</td>\n",
       "      <td>0</td>\n",
       "      <td>1</td>\n",
       "      <td>0</td>\n",
       "      <td>0</td>\n",
       "      <td>0</td>\n",
       "      <td>0</td>\n",
       "      <td>0</td>\n",
       "      <td>1</td>\n",
       "      <td>0</td>\n",
       "      <td>0</td>\n",
       "    </tr>\n",
       "    <tr>\n",
       "      <td>999993</td>\n",
       "      <td>6</td>\n",
       "      <td>0</td>\n",
       "      <td>1</td>\n",
       "      <td>0</td>\n",
       "      <td>0</td>\n",
       "      <td>0</td>\n",
       "      <td>0</td>\n",
       "      <td>0</td>\n",
       "      <td>0</td>\n",
       "      <td>0</td>\n",
       "      <td>0</td>\n",
       "      <td>0</td>\n",
       "      <td>1</td>\n",
       "      <td>0</td>\n",
       "    </tr>\n",
       "    <tr>\n",
       "      <td>999994</td>\n",
       "      <td>20</td>\n",
       "      <td>0</td>\n",
       "      <td>0</td>\n",
       "      <td>0</td>\n",
       "      <td>0</td>\n",
       "      <td>1</td>\n",
       "      <td>0</td>\n",
       "      <td>0</td>\n",
       "      <td>0</td>\n",
       "      <td>1</td>\n",
       "      <td>0</td>\n",
       "      <td>0</td>\n",
       "      <td>0</td>\n",
       "      <td>0</td>\n",
       "    </tr>\n",
       "  </tbody>\n",
       "</table>\n",
       "<p>999995 rows × 14 columns</p>\n",
       "</div>"
      ],
      "text/plain": [
       "        yearsExperience  CEO  CFO  CTO  JANITOR  JUNIOR  MANAGER  SENIOR  \\\n",
       "0                    10    0    1    0        0       0        0       0   \n",
       "1                     3    1    0    0        0       0        0       0   \n",
       "2                    10    0    0    0        0       0        0       0   \n",
       "3                     8    0    0    0        0       0        1       0   \n",
       "4                     8    0    0    0        0       0        0       0   \n",
       "...                 ...  ...  ...  ...      ...     ...      ...     ...   \n",
       "999990               19    0    0    0        0       0        0       0   \n",
       "999991               12    0    0    1        0       0        0       0   \n",
       "999992               16    0    0    0        0       1        0       0   \n",
       "999993                6    0    1    0        0       0        0       0   \n",
       "999994               20    0    0    0        0       1        0       0   \n",
       "\n",
       "        VICE_PRESIDENT  BACHELORS  DOCTORAL  HIGH_SCHOOL  MASTERS  NONE  \n",
       "0                    0          0         0            0        1     0  \n",
       "1                    0          0         0            1        0     0  \n",
       "2                    1          0         1            0        0     0  \n",
       "3                    0          0         1            0        0     0  \n",
       "4                    1          1         0            0        0     0  \n",
       "...                ...        ...       ...          ...      ...   ...  \n",
       "999990               1          1         0            0        0     0  \n",
       "999991               0          0         0            1        0     0  \n",
       "999992               0          0         0            1        0     0  \n",
       "999993               0          0         0            0        1     0  \n",
       "999994               0          1         0            0        0     0  \n",
       "\n",
       "[999995 rows x 14 columns]"
      ]
     },
     "execution_count": 50,
     "metadata": {},
     "output_type": "execute_result"
    }
   ],
   "source": [
    "features_model1"
   ]
  },
  {
   "cell_type": "markdown",
   "metadata": {},
   "source": [
    "## Model 2"
   ]
  },
  {
   "cell_type": "code",
   "execution_count": 51,
   "metadata": {},
   "outputs": [],
   "source": [
    "from sklearn.preprocessing import StandardScaler\n",
    "scaler = StandardScaler()"
   ]
  },
  {
   "cell_type": "code",
   "execution_count": 52,
   "metadata": {},
   "outputs": [],
   "source": [
    "target_model2 = scaler.fit_transform(df_degree_1hot[['salary']])"
   ]
  },
  {
   "cell_type": "code",
   "execution_count": 53,
   "metadata": {
    "scrolled": false
   },
   "outputs": [
    {
     "data": {
      "text/plain": [
       "array([[ 0.35998527],\n",
       "       [-0.38903692],\n",
       "       [ 0.54078373],\n",
       "       ...,\n",
       "       [-1.34468592],\n",
       "       [ 0.85072395],\n",
       "       [-0.72480548]])"
      ]
     },
     "execution_count": 53,
     "metadata": {},
     "output_type": "execute_result"
    }
   ],
   "source": [
    "target_model2"
   ]
  },
  {
   "cell_type": "code",
   "execution_count": 54,
   "metadata": {
    "scrolled": false
   },
   "outputs": [
    {
     "data": {
      "text/plain": [
       "array([[130.],\n",
       "       [101.],\n",
       "       [137.],\n",
       "       ...,\n",
       "       [ 64.],\n",
       "       [149.],\n",
       "       [ 88.]])"
      ]
     },
     "execution_count": 54,
     "metadata": {},
     "output_type": "execute_result"
    }
   ],
   "source": [
    "target_model2_inv = scaler.inverse_transform(target_model2)\n",
    "target_model2_inv"
   ]
  },
  {
   "cell_type": "code",
   "execution_count": 55,
   "metadata": {},
   "outputs": [
    {
     "data": {
      "text/plain": [
       "array([116.06239831])"
      ]
     },
     "execution_count": 55,
     "metadata": {},
     "output_type": "execute_result"
    }
   ],
   "source": [
    "scaler.mean_"
   ]
  },
  {
   "cell_type": "code",
   "execution_count": 56,
   "metadata": {
    "scrolled": true
   },
   "outputs": [
    {
     "data": {
      "text/plain": [
       "array([38.71714403])"
      ]
     },
     "execution_count": 56,
     "metadata": {},
     "output_type": "execute_result"
    }
   ],
   "source": [
    "scaler.scale_"
   ]
  },
  {
   "cell_type": "code",
   "execution_count": 57,
   "metadata": {
    "scrolled": true
   },
   "outputs": [
    {
     "data": {
      "text/html": [
       "<div>\n",
       "<style scoped>\n",
       "    .dataframe tbody tr th:only-of-type {\n",
       "        vertical-align: middle;\n",
       "    }\n",
       "\n",
       "    .dataframe tbody tr th {\n",
       "        vertical-align: top;\n",
       "    }\n",
       "\n",
       "    .dataframe thead th {\n",
       "        text-align: right;\n",
       "    }\n",
       "</style>\n",
       "<table border=\"1\" class=\"dataframe\">\n",
       "  <thead>\n",
       "    <tr style=\"text-align: right;\">\n",
       "      <th></th>\n",
       "      <th>0</th>\n",
       "    </tr>\n",
       "  </thead>\n",
       "  <tbody>\n",
       "    <tr>\n",
       "      <td>0</td>\n",
       "      <td>0.359985</td>\n",
       "    </tr>\n",
       "    <tr>\n",
       "      <td>1</td>\n",
       "      <td>-0.389037</td>\n",
       "    </tr>\n",
       "    <tr>\n",
       "      <td>2</td>\n",
       "      <td>0.540784</td>\n",
       "    </tr>\n",
       "    <tr>\n",
       "      <td>3</td>\n",
       "      <td>0.669925</td>\n",
       "    </tr>\n",
       "    <tr>\n",
       "      <td>4</td>\n",
       "      <td>1.212321</td>\n",
       "    </tr>\n",
       "    <tr>\n",
       "      <td>...</td>\n",
       "      <td>...</td>\n",
       "    </tr>\n",
       "    <tr>\n",
       "      <td>999990</td>\n",
       "      <td>-0.724805</td>\n",
       "    </tr>\n",
       "    <tr>\n",
       "      <td>999991</td>\n",
       "      <td>1.134836</td>\n",
       "    </tr>\n",
       "    <tr>\n",
       "      <td>999992</td>\n",
       "      <td>-1.344686</td>\n",
       "    </tr>\n",
       "    <tr>\n",
       "      <td>999993</td>\n",
       "      <td>0.850724</td>\n",
       "    </tr>\n",
       "    <tr>\n",
       "      <td>999994</td>\n",
       "      <td>-0.724805</td>\n",
       "    </tr>\n",
       "  </tbody>\n",
       "</table>\n",
       "<p>999995 rows × 1 columns</p>\n",
       "</div>"
      ],
      "text/plain": [
       "               0\n",
       "0       0.359985\n",
       "1      -0.389037\n",
       "2       0.540784\n",
       "3       0.669925\n",
       "4       1.212321\n",
       "...          ...\n",
       "999990 -0.724805\n",
       "999991  1.134836\n",
       "999992 -1.344686\n",
       "999993  0.850724\n",
       "999994 -0.724805\n",
       "\n",
       "[999995 rows x 1 columns]"
      ]
     },
     "execution_count": 57,
     "metadata": {},
     "output_type": "execute_result"
    }
   ],
   "source": [
    "target_model2_df = pd.DataFrame(target_model2, index=df.index)\n",
    "target_model2_df"
   ]
  },
  {
   "cell_type": "code",
   "execution_count": 58,
   "metadata": {},
   "outputs": [
    {
     "data": {
      "text/plain": [
       "<matplotlib.axes._subplots.AxesSubplot at 0xa44cb42d0>"
      ]
     },
     "execution_count": 58,
     "metadata": {},
     "output_type": "execute_result"
    },
    {
     "data": {
      "image/png": "[encoded data removed]",
      "text/plain": [
       "<Figure size 432x288 with 1 Axes>"
      ]
     },
     "metadata": {
      "needs_background": "light"
     },
     "output_type": "display_data"
    }
   ],
   "source": [
    "sns.distplot(target_model2_df, 100,\"salary\", \"Distribution of salary\")"
   ]
  },
  {
   "cell_type": "markdown",
   "metadata": {},
   "source": [
    "mean = 0, std_dev = 1.0\n",
    "=> outlier 1.5*2=3.0"
   ]
  },
  {
   "cell_type": "code",
   "execution_count": 59,
   "metadata": {
    "scrolled": true
   },
   "outputs": [
    {
     "name": "stdout",
     "output_type": "stream",
     "text": [
      "3212\n"
     ]
    }
   ],
   "source": [
    "print(len(target_model2[target_model2_df[0] > 3.0]))"
   ]
  },
  {
   "cell_type": "code",
   "execution_count": 60,
   "metadata": {
    "scrolled": true
   },
   "outputs": [
    {
     "data": {
      "text/plain": [
       "array([232.21383039])"
      ]
     },
     "execution_count": 60,
     "metadata": {},
     "output_type": "execute_result"
    }
   ],
   "source": [
    "scaler.inverse_transform([3.0])"
   ]
  },
  {
   "cell_type": "markdown",
   "metadata": {},
   "source": [
    "Confirm how much is the mse between standarized one and original one"
   ]
  },
  {
   "cell_type": "code",
   "execution_count": 61,
   "metadata": {
    "scrolled": false
   },
   "outputs": [
    {
     "data": {
      "text/plain": [
       "9.26796290758549e-31"
      ]
     },
     "execution_count": 61,
     "metadata": {},
     "output_type": "execute_result"
    }
   ],
   "source": [
    "from sklearn.metrics import mean_squared_error\n",
    "mse_test = mean_squared_error(target_model1, target_model2_inv)\n",
    "mse_test"
   ]
  },
  {
   "cell_type": "markdown",
   "metadata": {},
   "source": [
    "## Model 3"
   ]
  },
  {
   "cell_type": "code",
   "execution_count": 62,
   "metadata": {},
   "outputs": [],
   "source": [
    "features_model3 = features_model1.join(df[['milesFromMetropolis']])"
   ]
  },
  {
   "cell_type": "markdown",
   "metadata": {},
   "source": [
    "### Transform categorical features into one-hot valiables"
   ]
  },
  {
   "cell_type": "code",
   "execution_count": 63,
   "metadata": {},
   "outputs": [
    {
     "data": {
      "text/html": [
       "<div>\n",
       "<style scoped>\n",
       "    .dataframe tbody tr th:only-of-type {\n",
       "        vertical-align: middle;\n",
       "    }\n",
       "\n",
       "    .dataframe tbody tr th {\n",
       "        vertical-align: top;\n",
       "    }\n",
       "\n",
       "    .dataframe thead th {\n",
       "        text-align: right;\n",
       "    }\n",
       "</style>\n",
       "<table border=\"1\" class=\"dataframe\">\n",
       "  <thead>\n",
       "    <tr style=\"text-align: right;\">\n",
       "      <th></th>\n",
       "      <th>industry</th>\n",
       "    </tr>\n",
       "  </thead>\n",
       "  <tbody>\n",
       "    <tr>\n",
       "      <td>0</td>\n",
       "      <td>HEALTH</td>\n",
       "    </tr>\n",
       "    <tr>\n",
       "      <td>1</td>\n",
       "      <td>WEB</td>\n",
       "    </tr>\n",
       "    <tr>\n",
       "      <td>2</td>\n",
       "      <td>HEALTH</td>\n",
       "    </tr>\n",
       "    <tr>\n",
       "      <td>3</td>\n",
       "      <td>AUTO</td>\n",
       "    </tr>\n",
       "    <tr>\n",
       "      <td>4</td>\n",
       "      <td>FINANCE</td>\n",
       "    </tr>\n",
       "    <tr>\n",
       "      <td>...</td>\n",
       "      <td>...</td>\n",
       "    </tr>\n",
       "    <tr>\n",
       "      <td>999990</td>\n",
       "      <td>HEALTH</td>\n",
       "    </tr>\n",
       "    <tr>\n",
       "      <td>999991</td>\n",
       "      <td>FINANCE</td>\n",
       "    </tr>\n",
       "    <tr>\n",
       "      <td>999992</td>\n",
       "      <td>EDUCATION</td>\n",
       "    </tr>\n",
       "    <tr>\n",
       "      <td>999993</td>\n",
       "      <td>HEALTH</td>\n",
       "    </tr>\n",
       "    <tr>\n",
       "      <td>999994</td>\n",
       "      <td>EDUCATION</td>\n",
       "    </tr>\n",
       "  </tbody>\n",
       "</table>\n",
       "<p>999995 rows × 1 columns</p>\n",
       "</div>"
      ],
      "text/plain": [
       "         industry\n",
       "0          HEALTH\n",
       "1             WEB\n",
       "2          HEALTH\n",
       "3            AUTO\n",
       "4         FINANCE\n",
       "...           ...\n",
       "999990     HEALTH\n",
       "999991    FINANCE\n",
       "999992  EDUCATION\n",
       "999993     HEALTH\n",
       "999994  EDUCATION\n",
       "\n",
       "[999995 rows x 1 columns]"
      ]
     },
     "execution_count": 63,
     "metadata": {},
     "output_type": "execute_result"
    }
   ],
   "source": [
    "df_industry_labels = df[['industry']]\n",
    "df_industry_labels"
   ]
  },
  {
   "cell_type": "code",
   "execution_count": 64,
   "metadata": {
    "scrolled": true
   },
   "outputs": [
    {
     "data": {
      "text/html": [
       "<div>\n",
       "<style scoped>\n",
       "    .dataframe tbody tr th:only-of-type {\n",
       "        vertical-align: middle;\n",
       "    }\n",
       "\n",
       "    .dataframe tbody tr th {\n",
       "        vertical-align: top;\n",
       "    }\n",
       "\n",
       "    .dataframe thead th {\n",
       "        text-align: right;\n",
       "    }\n",
       "</style>\n",
       "<table border=\"1\" class=\"dataframe\">\n",
       "  <thead>\n",
       "    <tr style=\"text-align: right;\">\n",
       "      <th></th>\n",
       "      <th>yearsExperience</th>\n",
       "      <th>CEO</th>\n",
       "      <th>CFO</th>\n",
       "      <th>CTO</th>\n",
       "      <th>JANITOR</th>\n",
       "      <th>JUNIOR</th>\n",
       "      <th>MANAGER</th>\n",
       "      <th>SENIOR</th>\n",
       "      <th>VICE_PRESIDENT</th>\n",
       "      <th>BACHELORS</th>\n",
       "      <th>...</th>\n",
       "      <th>MASTERS</th>\n",
       "      <th>NONE</th>\n",
       "      <th>milesFromMetropolis</th>\n",
       "      <th>AUTO</th>\n",
       "      <th>EDUCATION</th>\n",
       "      <th>FINANCE</th>\n",
       "      <th>HEALTH</th>\n",
       "      <th>OIL</th>\n",
       "      <th>SERVICE</th>\n",
       "      <th>WEB</th>\n",
       "    </tr>\n",
       "  </thead>\n",
       "  <tbody>\n",
       "    <tr>\n",
       "      <td>0</td>\n",
       "      <td>10</td>\n",
       "      <td>0</td>\n",
       "      <td>1</td>\n",
       "      <td>0</td>\n",
       "      <td>0</td>\n",
       "      <td>0</td>\n",
       "      <td>0</td>\n",
       "      <td>0</td>\n",
       "      <td>0</td>\n",
       "      <td>0</td>\n",
       "      <td>...</td>\n",
       "      <td>1</td>\n",
       "      <td>0</td>\n",
       "      <td>83</td>\n",
       "      <td>0</td>\n",
       "      <td>0</td>\n",
       "      <td>0</td>\n",
       "      <td>1</td>\n",
       "      <td>0</td>\n",
       "      <td>0</td>\n",
       "      <td>0</td>\n",
       "    </tr>\n",
       "    <tr>\n",
       "      <td>1</td>\n",
       "      <td>3</td>\n",
       "      <td>1</td>\n",
       "      <td>0</td>\n",
       "      <td>0</td>\n",
       "      <td>0</td>\n",
       "      <td>0</td>\n",
       "      <td>0</td>\n",
       "      <td>0</td>\n",
       "      <td>0</td>\n",
       "      <td>0</td>\n",
       "      <td>...</td>\n",
       "      <td>0</td>\n",
       "      <td>0</td>\n",
       "      <td>73</td>\n",
       "      <td>0</td>\n",
       "      <td>0</td>\n",
       "      <td>0</td>\n",
       "      <td>0</td>\n",
       "      <td>0</td>\n",
       "      <td>0</td>\n",
       "      <td>1</td>\n",
       "    </tr>\n",
       "    <tr>\n",
       "      <td>2</td>\n",
       "      <td>10</td>\n",
       "      <td>0</td>\n",
       "      <td>0</td>\n",
       "      <td>0</td>\n",
       "      <td>0</td>\n",
       "      <td>0</td>\n",
       "      <td>0</td>\n",
       "      <td>0</td>\n",
       "      <td>1</td>\n",
       "      <td>0</td>\n",
       "      <td>...</td>\n",
       "      <td>0</td>\n",
       "      <td>0</td>\n",
       "      <td>38</td>\n",
       "      <td>0</td>\n",
       "      <td>0</td>\n",
       "      <td>0</td>\n",
       "      <td>1</td>\n",
       "      <td>0</td>\n",
       "      <td>0</td>\n",
       "      <td>0</td>\n",
       "    </tr>\n",
       "    <tr>\n",
       "      <td>3</td>\n",
       "      <td>8</td>\n",
       "      <td>0</td>\n",
       "      <td>0</td>\n",
       "      <td>0</td>\n",
       "      <td>0</td>\n",
       "      <td>0</td>\n",
       "      <td>1</td>\n",
       "      <td>0</td>\n",
       "      <td>0</td>\n",
       "      <td>0</td>\n",
       "      <td>...</td>\n",
       "      <td>0</td>\n",
       "      <td>0</td>\n",
       "      <td>17</td>\n",
       "      <td>1</td>\n",
       "      <td>0</td>\n",
       "      <td>0</td>\n",
       "      <td>0</td>\n",
       "      <td>0</td>\n",
       "      <td>0</td>\n",
       "      <td>0</td>\n",
       "    </tr>\n",
       "    <tr>\n",
       "      <td>4</td>\n",
       "      <td>8</td>\n",
       "      <td>0</td>\n",
       "      <td>0</td>\n",
       "      <td>0</td>\n",
       "      <td>0</td>\n",
       "      <td>0</td>\n",
       "      <td>0</td>\n",
       "      <td>0</td>\n",
       "      <td>1</td>\n",
       "      <td>1</td>\n",
       "      <td>...</td>\n",
       "      <td>0</td>\n",
       "      <td>0</td>\n",
       "      <td>16</td>\n",
       "      <td>0</td>\n",
       "      <td>0</td>\n",
       "      <td>1</td>\n",
       "      <td>0</td>\n",
       "      <td>0</td>\n",
       "      <td>0</td>\n",
       "      <td>0</td>\n",
       "    </tr>\n",
       "    <tr>\n",
       "      <td>...</td>\n",
       "      <td>...</td>\n",
       "      <td>...</td>\n",
       "      <td>...</td>\n",
       "      <td>...</td>\n",
       "      <td>...</td>\n",
       "      <td>...</td>\n",
       "      <td>...</td>\n",
       "      <td>...</td>\n",
       "      <td>...</td>\n",
       "      <td>...</td>\n",
       "      <td>...</td>\n",
       "      <td>...</td>\n",
       "      <td>...</td>\n",
       "      <td>...</td>\n",
       "      <td>...</td>\n",
       "      <td>...</td>\n",
       "      <td>...</td>\n",
       "      <td>...</td>\n",
       "      <td>...</td>\n",
       "      <td>...</td>\n",
       "      <td>...</td>\n",
       "    </tr>\n",
       "    <tr>\n",
       "      <td>999990</td>\n",
       "      <td>19</td>\n",
       "      <td>0</td>\n",
       "      <td>0</td>\n",
       "      <td>0</td>\n",
       "      <td>0</td>\n",
       "      <td>0</td>\n",
       "      <td>0</td>\n",
       "      <td>0</td>\n",
       "      <td>1</td>\n",
       "      <td>1</td>\n",
       "      <td>...</td>\n",
       "      <td>0</td>\n",
       "      <td>0</td>\n",
       "      <td>94</td>\n",
       "      <td>0</td>\n",
       "      <td>0</td>\n",
       "      <td>0</td>\n",
       "      <td>1</td>\n",
       "      <td>0</td>\n",
       "      <td>0</td>\n",
       "      <td>0</td>\n",
       "    </tr>\n",
       "    <tr>\n",
       "      <td>999991</td>\n",
       "      <td>12</td>\n",
       "      <td>0</td>\n",
       "      <td>0</td>\n",
       "      <td>1</td>\n",
       "      <td>0</td>\n",
       "      <td>0</td>\n",
       "      <td>0</td>\n",
       "      <td>0</td>\n",
       "      <td>0</td>\n",
       "      <td>0</td>\n",
       "      <td>...</td>\n",
       "      <td>0</td>\n",
       "      <td>0</td>\n",
       "      <td>35</td>\n",
       "      <td>0</td>\n",
       "      <td>0</td>\n",
       "      <td>1</td>\n",
       "      <td>0</td>\n",
       "      <td>0</td>\n",
       "      <td>0</td>\n",
       "      <td>0</td>\n",
       "    </tr>\n",
       "    <tr>\n",
       "      <td>999992</td>\n",
       "      <td>16</td>\n",
       "      <td>0</td>\n",
       "      <td>0</td>\n",
       "      <td>0</td>\n",
       "      <td>0</td>\n",
       "      <td>1</td>\n",
       "      <td>0</td>\n",
       "      <td>0</td>\n",
       "      <td>0</td>\n",
       "      <td>0</td>\n",
       "      <td>...</td>\n",
       "      <td>0</td>\n",
       "      <td>0</td>\n",
       "      <td>81</td>\n",
       "      <td>0</td>\n",
       "      <td>1</td>\n",
       "      <td>0</td>\n",
       "      <td>0</td>\n",
       "      <td>0</td>\n",
       "      <td>0</td>\n",
       "      <td>0</td>\n",
       "    </tr>\n",
       "    <tr>\n",
       "      <td>999993</td>\n",
       "      <td>6</td>\n",
       "      <td>0</td>\n",
       "      <td>1</td>\n",
       "      <td>0</td>\n",
       "      <td>0</td>\n",
       "      <td>0</td>\n",
       "      <td>0</td>\n",
       "      <td>0</td>\n",
       "      <td>0</td>\n",
       "      <td>0</td>\n",
       "      <td>...</td>\n",
       "      <td>1</td>\n",
       "      <td>0</td>\n",
       "      <td>5</td>\n",
       "      <td>0</td>\n",
       "      <td>0</td>\n",
       "      <td>0</td>\n",
       "      <td>1</td>\n",
       "      <td>0</td>\n",
       "      <td>0</td>\n",
       "      <td>0</td>\n",
       "    </tr>\n",
       "    <tr>\n",
       "      <td>999994</td>\n",
       "      <td>20</td>\n",
       "      <td>0</td>\n",
       "      <td>0</td>\n",
       "      <td>0</td>\n",
       "      <td>0</td>\n",
       "      <td>1</td>\n",
       "      <td>0</td>\n",
       "      <td>0</td>\n",
       "      <td>0</td>\n",
       "      <td>1</td>\n",
       "      <td>...</td>\n",
       "      <td>0</td>\n",
       "      <td>0</td>\n",
       "      <td>11</td>\n",
       "      <td>0</td>\n",
       "      <td>1</td>\n",
       "      <td>0</td>\n",
       "      <td>0</td>\n",
       "      <td>0</td>\n",
       "      <td>0</td>\n",
       "      <td>0</td>\n",
       "    </tr>\n",
       "  </tbody>\n",
       "</table>\n",
       "<p>999995 rows × 22 columns</p>\n",
       "</div>"
      ],
      "text/plain": [
       "        yearsExperience  CEO  CFO  CTO  JANITOR  JUNIOR  MANAGER  SENIOR  \\\n",
       "0                    10    0    1    0        0       0        0       0   \n",
       "1                     3    1    0    0        0       0        0       0   \n",
       "2                    10    0    0    0        0       0        0       0   \n",
       "3                     8    0    0    0        0       0        1       0   \n",
       "4                     8    0    0    0        0       0        0       0   \n",
       "...                 ...  ...  ...  ...      ...     ...      ...     ...   \n",
       "999990               19    0    0    0        0       0        0       0   \n",
       "999991               12    0    0    1        0       0        0       0   \n",
       "999992               16    0    0    0        0       1        0       0   \n",
       "999993                6    0    1    0        0       0        0       0   \n",
       "999994               20    0    0    0        0       1        0       0   \n",
       "\n",
       "        VICE_PRESIDENT  BACHELORS  ...  MASTERS  NONE  milesFromMetropolis  \\\n",
       "0                    0          0  ...        1     0                   83   \n",
       "1                    0          0  ...        0     0                   73   \n",
       "2                    1          0  ...        0     0                   38   \n",
       "3                    0          0  ...        0     0                   17   \n",
       "4                    1          1  ...        0     0                   16   \n",
       "...                ...        ...  ...      ...   ...                  ...   \n",
       "999990               1          1  ...        0     0                   94   \n",
       "999991               0          0  ...        0     0                   35   \n",
       "999992               0          0  ...        0     0                   81   \n",
       "999993               0          0  ...        1     0                    5   \n",
       "999994               0          1  ...        0     0                   11   \n",
       "\n",
       "        AUTO  EDUCATION  FINANCE  HEALTH  OIL  SERVICE  WEB  \n",
       "0          0          0        0       1    0        0    0  \n",
       "1          0          0        0       0    0        0    1  \n",
       "2          0          0        0       1    0        0    0  \n",
       "3          1          0        0       0    0        0    0  \n",
       "4          0          0        1       0    0        0    0  \n",
       "...      ...        ...      ...     ...  ...      ...  ...  \n",
       "999990     0          0        0       1    0        0    0  \n",
       "999991     0          0        1       0    0        0    0  \n",
       "999992     0          1        0       0    0        0    0  \n",
       "999993     0          0        0       1    0        0    0  \n",
       "999994     0          1        0       0    0        0    0  \n",
       "\n",
       "[999995 rows x 22 columns]"
      ]
     },
     "execution_count": 64,
     "metadata": {},
     "output_type": "execute_result"
    }
   ],
   "source": [
    "encoder3 = LabelBinarizer()\n",
    "features_model3 = features_model3.join(pd.DataFrame(encoder3.fit_transform(df_industry_labels),\n",
    "                          columns=encoder3.classes_, \n",
    "                          index=df.index))\n",
    "features_model3"
   ]
  },
  {
   "cell_type": "code",
   "execution_count": 65,
   "metadata": {},
   "outputs": [],
   "source": [
    "df_major_labels = df[['major']]"
   ]
  },
  {
   "cell_type": "code",
   "execution_count": 66,
   "metadata": {},
   "outputs": [],
   "source": [
    "features_model3 = features_model3.rename(columns={\"NONE\":\"NONE_DEG\"})"
   ]
  },
  {
   "cell_type": "code",
   "execution_count": 67,
   "metadata": {
    "scrolled": false
   },
   "outputs": [
    {
     "data": {
      "text/html": [
       "<div>\n",
       "<style scoped>\n",
       "    .dataframe tbody tr th:only-of-type {\n",
       "        vertical-align: middle;\n",
       "    }\n",
       "\n",
       "    .dataframe tbody tr th {\n",
       "        vertical-align: top;\n",
       "    }\n",
       "\n",
       "    .dataframe thead th {\n",
       "        text-align: right;\n",
       "    }\n",
       "</style>\n",
       "<table border=\"1\" class=\"dataframe\">\n",
       "  <thead>\n",
       "    <tr style=\"text-align: right;\">\n",
       "      <th></th>\n",
       "      <th>yearsExperience</th>\n",
       "      <th>CEO</th>\n",
       "      <th>CFO</th>\n",
       "      <th>CTO</th>\n",
       "      <th>JANITOR</th>\n",
       "      <th>JUNIOR</th>\n",
       "      <th>MANAGER</th>\n",
       "      <th>SENIOR</th>\n",
       "      <th>VICE_PRESIDENT</th>\n",
       "      <th>BACHELORS</th>\n",
       "      <th>...</th>\n",
       "      <th>WEB</th>\n",
       "      <th>BIOLOGY</th>\n",
       "      <th>BUSINESS</th>\n",
       "      <th>CHEMISTRY</th>\n",
       "      <th>COMPSCI</th>\n",
       "      <th>ENGINEERING</th>\n",
       "      <th>LITERATURE</th>\n",
       "      <th>MATH</th>\n",
       "      <th>NONE</th>\n",
       "      <th>PHYSICS</th>\n",
       "    </tr>\n",
       "  </thead>\n",
       "  <tbody>\n",
       "    <tr>\n",
       "      <td>0</td>\n",
       "      <td>10</td>\n",
       "      <td>0</td>\n",
       "      <td>1</td>\n",
       "      <td>0</td>\n",
       "      <td>0</td>\n",
       "      <td>0</td>\n",
       "      <td>0</td>\n",
       "      <td>0</td>\n",
       "      <td>0</td>\n",
       "      <td>0</td>\n",
       "      <td>...</td>\n",
       "      <td>0</td>\n",
       "      <td>0</td>\n",
       "      <td>0</td>\n",
       "      <td>0</td>\n",
       "      <td>0</td>\n",
       "      <td>0</td>\n",
       "      <td>0</td>\n",
       "      <td>1</td>\n",
       "      <td>0</td>\n",
       "      <td>0</td>\n",
       "    </tr>\n",
       "    <tr>\n",
       "      <td>1</td>\n",
       "      <td>3</td>\n",
       "      <td>1</td>\n",
       "      <td>0</td>\n",
       "      <td>0</td>\n",
       "      <td>0</td>\n",
       "      <td>0</td>\n",
       "      <td>0</td>\n",
       "      <td>0</td>\n",
       "      <td>0</td>\n",
       "      <td>0</td>\n",
       "      <td>...</td>\n",
       "      <td>1</td>\n",
       "      <td>0</td>\n",
       "      <td>0</td>\n",
       "      <td>0</td>\n",
       "      <td>0</td>\n",
       "      <td>0</td>\n",
       "      <td>0</td>\n",
       "      <td>0</td>\n",
       "      <td>1</td>\n",
       "      <td>0</td>\n",
       "    </tr>\n",
       "    <tr>\n",
       "      <td>2</td>\n",
       "      <td>10</td>\n",
       "      <td>0</td>\n",
       "      <td>0</td>\n",
       "      <td>0</td>\n",
       "      <td>0</td>\n",
       "      <td>0</td>\n",
       "      <td>0</td>\n",
       "      <td>0</td>\n",
       "      <td>1</td>\n",
       "      <td>0</td>\n",
       "      <td>...</td>\n",
       "      <td>0</td>\n",
       "      <td>0</td>\n",
       "      <td>0</td>\n",
       "      <td>0</td>\n",
       "      <td>0</td>\n",
       "      <td>0</td>\n",
       "      <td>0</td>\n",
       "      <td>0</td>\n",
       "      <td>0</td>\n",
       "      <td>1</td>\n",
       "    </tr>\n",
       "    <tr>\n",
       "      <td>3</td>\n",
       "      <td>8</td>\n",
       "      <td>0</td>\n",
       "      <td>0</td>\n",
       "      <td>0</td>\n",
       "      <td>0</td>\n",
       "      <td>0</td>\n",
       "      <td>1</td>\n",
       "      <td>0</td>\n",
       "      <td>0</td>\n",
       "      <td>0</td>\n",
       "      <td>...</td>\n",
       "      <td>0</td>\n",
       "      <td>0</td>\n",
       "      <td>0</td>\n",
       "      <td>1</td>\n",
       "      <td>0</td>\n",
       "      <td>0</td>\n",
       "      <td>0</td>\n",
       "      <td>0</td>\n",
       "      <td>0</td>\n",
       "      <td>0</td>\n",
       "    </tr>\n",
       "    <tr>\n",
       "      <td>4</td>\n",
       "      <td>8</td>\n",
       "      <td>0</td>\n",
       "      <td>0</td>\n",
       "      <td>0</td>\n",
       "      <td>0</td>\n",
       "      <td>0</td>\n",
       "      <td>0</td>\n",
       "      <td>0</td>\n",
       "      <td>1</td>\n",
       "      <td>1</td>\n",
       "      <td>...</td>\n",
       "      <td>0</td>\n",
       "      <td>0</td>\n",
       "      <td>0</td>\n",
       "      <td>0</td>\n",
       "      <td>0</td>\n",
       "      <td>0</td>\n",
       "      <td>0</td>\n",
       "      <td>0</td>\n",
       "      <td>0</td>\n",
       "      <td>1</td>\n",
       "    </tr>\n",
       "    <tr>\n",
       "      <td>...</td>\n",
       "      <td>...</td>\n",
       "      <td>...</td>\n",
       "      <td>...</td>\n",
       "      <td>...</td>\n",
       "      <td>...</td>\n",
       "      <td>...</td>\n",
       "      <td>...</td>\n",
       "      <td>...</td>\n",
       "      <td>...</td>\n",
       "      <td>...</td>\n",
       "      <td>...</td>\n",
       "      <td>...</td>\n",
       "      <td>...</td>\n",
       "      <td>...</td>\n",
       "      <td>...</td>\n",
       "      <td>...</td>\n",
       "      <td>...</td>\n",
       "      <td>...</td>\n",
       "      <td>...</td>\n",
       "      <td>...</td>\n",
       "      <td>...</td>\n",
       "    </tr>\n",
       "    <tr>\n",
       "      <td>999990</td>\n",
       "      <td>19</td>\n",
       "      <td>0</td>\n",
       "      <td>0</td>\n",
       "      <td>0</td>\n",
       "      <td>0</td>\n",
       "      <td>0</td>\n",
       "      <td>0</td>\n",
       "      <td>0</td>\n",
       "      <td>1</td>\n",
       "      <td>1</td>\n",
       "      <td>...</td>\n",
       "      <td>0</td>\n",
       "      <td>0</td>\n",
       "      <td>0</td>\n",
       "      <td>1</td>\n",
       "      <td>0</td>\n",
       "      <td>0</td>\n",
       "      <td>0</td>\n",
       "      <td>0</td>\n",
       "      <td>0</td>\n",
       "      <td>0</td>\n",
       "    </tr>\n",
       "    <tr>\n",
       "      <td>999991</td>\n",
       "      <td>12</td>\n",
       "      <td>0</td>\n",
       "      <td>0</td>\n",
       "      <td>1</td>\n",
       "      <td>0</td>\n",
       "      <td>0</td>\n",
       "      <td>0</td>\n",
       "      <td>0</td>\n",
       "      <td>0</td>\n",
       "      <td>0</td>\n",
       "      <td>...</td>\n",
       "      <td>0</td>\n",
       "      <td>0</td>\n",
       "      <td>0</td>\n",
       "      <td>0</td>\n",
       "      <td>0</td>\n",
       "      <td>0</td>\n",
       "      <td>0</td>\n",
       "      <td>0</td>\n",
       "      <td>1</td>\n",
       "      <td>0</td>\n",
       "    </tr>\n",
       "    <tr>\n",
       "      <td>999992</td>\n",
       "      <td>16</td>\n",
       "      <td>0</td>\n",
       "      <td>0</td>\n",
       "      <td>0</td>\n",
       "      <td>0</td>\n",
       "      <td>1</td>\n",
       "      <td>0</td>\n",
       "      <td>0</td>\n",
       "      <td>0</td>\n",
       "      <td>0</td>\n",
       "      <td>...</td>\n",
       "      <td>0</td>\n",
       "      <td>0</td>\n",
       "      <td>0</td>\n",
       "      <td>0</td>\n",
       "      <td>0</td>\n",
       "      <td>0</td>\n",
       "      <td>0</td>\n",
       "      <td>0</td>\n",
       "      <td>1</td>\n",
       "      <td>0</td>\n",
       "    </tr>\n",
       "    <tr>\n",
       "      <td>999993</td>\n",
       "      <td>6</td>\n",
       "      <td>0</td>\n",
       "      <td>1</td>\n",
       "      <td>0</td>\n",
       "      <td>0</td>\n",
       "      <td>0</td>\n",
       "      <td>0</td>\n",
       "      <td>0</td>\n",
       "      <td>0</td>\n",
       "      <td>0</td>\n",
       "      <td>...</td>\n",
       "      <td>0</td>\n",
       "      <td>0</td>\n",
       "      <td>0</td>\n",
       "      <td>0</td>\n",
       "      <td>0</td>\n",
       "      <td>0</td>\n",
       "      <td>0</td>\n",
       "      <td>0</td>\n",
       "      <td>1</td>\n",
       "      <td>0</td>\n",
       "    </tr>\n",
       "    <tr>\n",
       "      <td>999994</td>\n",
       "      <td>20</td>\n",
       "      <td>0</td>\n",
       "      <td>0</td>\n",
       "      <td>0</td>\n",
       "      <td>0</td>\n",
       "      <td>1</td>\n",
       "      <td>0</td>\n",
       "      <td>0</td>\n",
       "      <td>0</td>\n",
       "      <td>1</td>\n",
       "      <td>...</td>\n",
       "      <td>0</td>\n",
       "      <td>0</td>\n",
       "      <td>0</td>\n",
       "      <td>0</td>\n",
       "      <td>0</td>\n",
       "      <td>0</td>\n",
       "      <td>0</td>\n",
       "      <td>0</td>\n",
       "      <td>1</td>\n",
       "      <td>0</td>\n",
       "    </tr>\n",
       "  </tbody>\n",
       "</table>\n",
       "<p>999995 rows × 31 columns</p>\n",
       "</div>"
      ],
      "text/plain": [
       "        yearsExperience  CEO  CFO  CTO  JANITOR  JUNIOR  MANAGER  SENIOR  \\\n",
       "0                    10    0    1    0        0       0        0       0   \n",
       "1                     3    1    0    0        0       0        0       0   \n",
       "2                    10    0    0    0        0       0        0       0   \n",
       "3                     8    0    0    0        0       0        1       0   \n",
       "4                     8    0    0    0        0       0        0       0   \n",
       "...                 ...  ...  ...  ...      ...     ...      ...     ...   \n",
       "999990               19    0    0    0        0       0        0       0   \n",
       "999991               12    0    0    1        0       0        0       0   \n",
       "999992               16    0    0    0        0       1        0       0   \n",
       "999993                6    0    1    0        0       0        0       0   \n",
       "999994               20    0    0    0        0       1        0       0   \n",
       "\n",
       "        VICE_PRESIDENT  BACHELORS  ...  WEB  BIOLOGY  BUSINESS  CHEMISTRY  \\\n",
       "0                    0          0  ...    0        0         0          0   \n",
       "1                    0          0  ...    1        0         0          0   \n",
       "2                    1          0  ...    0        0         0          0   \n",
       "3                    0          0  ...    0        0         0          1   \n",
       "4                    1          1  ...    0        0         0          0   \n",
       "...                ...        ...  ...  ...      ...       ...        ...   \n",
       "999990               1          1  ...    0        0         0          1   \n",
       "999991               0          0  ...    0        0         0          0   \n",
       "999992               0          0  ...    0        0         0          0   \n",
       "999993               0          0  ...    0        0         0          0   \n",
       "999994               0          1  ...    0        0         0          0   \n",
       "\n",
       "        COMPSCI  ENGINEERING  LITERATURE  MATH  NONE  PHYSICS  \n",
       "0             0            0           0     1     0        0  \n",
       "1             0            0           0     0     1        0  \n",
       "2             0            0           0     0     0        1  \n",
       "3             0            0           0     0     0        0  \n",
       "4             0            0           0     0     0        1  \n",
       "...         ...          ...         ...   ...   ...      ...  \n",
       "999990        0            0           0     0     0        0  \n",
       "999991        0            0           0     0     1        0  \n",
       "999992        0            0           0     0     1        0  \n",
       "999993        0            0           0     0     1        0  \n",
       "999994        0            0           0     0     1        0  \n",
       "\n",
       "[999995 rows x 31 columns]"
      ]
     },
     "execution_count": 67,
     "metadata": {},
     "output_type": "execute_result"
    }
   ],
   "source": [
    "features_model3 = features_model3.join(pd.DataFrame(encoder3.fit_transform(df_major_labels),\n",
    "                          columns=encoder3.classes_, \n",
    "                          index=df.index))\n",
    "features_model3"
   ]
  },
  {
   "cell_type": "markdown",
   "metadata": {},
   "source": [
    "### Replace the categorical values with order by mean salary"
   ]
  },
  {
   "cell_type": "code",
   "execution_count": 68,
   "metadata": {},
   "outputs": [],
   "source": [
    "df_model3_rev = df [[\"major\",\"industry\", \"jobType\",\"degree\",'yearsExperience','milesFromMetropolis']]"
   ]
  },
  {
   "cell_type": "code",
   "execution_count": 69,
   "metadata": {},
   "outputs": [
    {
     "name": "stderr",
     "output_type": "stream",
     "text": [
      "/Users/tomokrmr/opt/anaconda3/lib/python3.7/site-packages/ipykernel_launcher.py:1: SettingWithCopyWarning: \n",
      "A value is trying to be set on a copy of a slice from a DataFrame.\n",
      "Try using .loc[row_indexer,col_indexer] = value instead\n",
      "\n",
      "See the caveats in the documentation: http://pandas.pydata.org/pandas-docs/stable/user_guide/indexing.html#returning-a-view-versus-a-copy\n",
      "  \"\"\"Entry point for launching an IPython kernel.\n"
     ]
    }
   ],
   "source": [
    "df_model3_rev['degree']=df_model3_rev['degree'].map({\"NONE\":0, \"HIGH_SCHOOL\":1, \"BACHELORS\":2, \"MASTERS\":3, \"DOCTORAL\":4 })"
   ]
  },
  {
   "cell_type": "code",
   "execution_count": 70,
   "metadata": {
    "scrolled": true
   },
   "outputs": [
    {
     "name": "stderr",
     "output_type": "stream",
     "text": [
      "/Users/tomokrmr/opt/anaconda3/lib/python3.7/site-packages/ipykernel_launcher.py:1: SettingWithCopyWarning: \n",
      "A value is trying to be set on a copy of a slice from a DataFrame.\n",
      "Try using .loc[row_indexer,col_indexer] = value instead\n",
      "\n",
      "See the caveats in the documentation: http://pandas.pydata.org/pandas-docs/stable/user_guide/indexing.html#returning-a-view-versus-a-copy\n",
      "  \"\"\"Entry point for launching an IPython kernel.\n"
     ]
    }
   ],
   "source": [
    "df_model3_rev['jobType']=df_model3_rev['jobType'].map({'JANITOR':0,  'JUNIOR':1, 'SENIOR':2, 'MANAGER':3, 'VICE_PRESIDENT':4, 'CFO':5, 'CTO':6,  'CEO':7 })"
   ]
  },
  {
   "cell_type": "code",
   "execution_count": 71,
   "metadata": {
    "scrolled": true
   },
   "outputs": [
    {
     "name": "stderr",
     "output_type": "stream",
     "text": [
      "/Users/tomokrmr/opt/anaconda3/lib/python3.7/site-packages/ipykernel_launcher.py:1: SettingWithCopyWarning: \n",
      "A value is trying to be set on a copy of a slice from a DataFrame.\n",
      "Try using .loc[row_indexer,col_indexer] = value instead\n",
      "\n",
      "See the caveats in the documentation: http://pandas.pydata.org/pandas-docs/stable/user_guide/indexing.html#returning-a-view-versus-a-copy\n",
      "  \"\"\"Entry point for launching an IPython kernel.\n"
     ]
    }
   ],
   "source": [
    "df_model3_rev['major']=df_model3_rev['major'].map({ 'NONE':0,'LITERATURE':1, 'BIOLOGY':2, 'CHEMISTRY':3, 'PHYSICS':4, 'COMPSCI':5, 'MATH':6, 'BUSINESS':7, 'ENGINEERING':8})"
   ]
  },
  {
   "cell_type": "code",
   "execution_count": 72,
   "metadata": {
    "scrolled": false
   },
   "outputs": [
    {
     "name": "stderr",
     "output_type": "stream",
     "text": [
      "/Users/tomokrmr/opt/anaconda3/lib/python3.7/site-packages/ipykernel_launcher.py:8: SettingWithCopyWarning: \n",
      "A value is trying to be set on a copy of a slice from a DataFrame.\n",
      "Try using .loc[row_indexer,col_indexer] = value instead\n",
      "\n",
      "See the caveats in the documentation: http://pandas.pydata.org/pandas-docs/stable/user_guide/indexing.html#returning-a-view-versus-a-copy\n",
      "  \n"
     ]
    }
   ],
   "source": [
    "df_model3_rev['industry']=df_model3_rev['industry'].map({ \n",
    "'EDUCATION':0,\n",
    "'SERVICE':1,\n",
    "  'AUTO':2,\n",
    "'HEALTH':3,\n",
    "'WEB':4,\n",
    " 'FINANCE':5,\n",
    " 'OIL':6})"
   ]
  },
  {
   "cell_type": "code",
   "execution_count": 70,
   "metadata": {},
   "outputs": [
    {
     "name": "stdout",
     "output_type": "stream",
     "text": [
      "major                  0\n",
      "industry               0\n",
      "jobType                0\n",
      "degree                 0\n",
      "yearsExperience        0\n",
      "milesFromMetropolis    0\n",
      "dtype: int64\n"
     ]
    }
   ],
   "source": [
    "print(df_model3_rev.isna().sum())"
   ]
  },
  {
   "cell_type": "markdown",
   "metadata": {},
   "source": [
    "## For Turning Model 3"
   ]
  },
  {
   "cell_type": "markdown",
   "metadata": {},
   "source": [
    "### dropping degree=none -> didn't work well"
   ]
  },
  {
   "cell_type": "code",
   "execution_count": 71,
   "metadata": {},
   "outputs": [],
   "source": [
    "features_model4 = features_model3.drop(\"NONE_DEG\", axis=1)"
   ]
  },
  {
   "cell_type": "markdown",
   "metadata": {},
   "source": [
    "### categorized companyId by mean salary -> didn't work well"
   ]
  },
  {
   "cell_type": "code",
   "execution_count": null,
   "metadata": {
    "scrolled": true
   },
   "outputs": [],
   "source": [
    "df_companies_sorted"
   ]
  },
  {
   "cell_type": "code",
   "execution_count": null,
   "metadata": {},
   "outputs": [],
   "source": [
    "sns.distplot(df_companies_sorted['salary'], 20,\"salary\", \"Distribution of salary\")"
   ]
  },
  {
   "cell_type": "code",
   "execution_count": null,
   "metadata": {},
   "outputs": [],
   "source": [
    "df_companies_sorted[\"comp_cat\"] = np.ceil(df_companies_sorted[\"salary\"]/0.5)"
   ]
  },
  {
   "cell_type": "code",
   "execution_count": null,
   "metadata": {
    "scrolled": true
   },
   "outputs": [],
   "source": [
    "df_companies_sorted"
   ]
  },
  {
   "cell_type": "code",
   "execution_count": null,
   "metadata": {
    "scrolled": true
   },
   "outputs": [],
   "source": [
    "df_companies_sorted[\"comp_cat\"].describe()"
   ]
  },
  {
   "cell_type": "code",
   "execution_count": null,
   "metadata": {},
   "outputs": [],
   "source": [
    "df_companies_sorted[\"comp_cat\"]"
   ]
  },
  {
   "cell_type": "code",
   "execution_count": null,
   "metadata": {},
   "outputs": [],
   "source": [
    "features_model5 = features_model4.join(df[\"companyId\"])\n",
    "features_model5"
   ]
  },
  {
   "cell_type": "code",
   "execution_count": null,
   "metadata": {
    "scrolled": false
   },
   "outputs": [],
   "source": [
    "comp_dict = df_companies_sorted[[\"companyId\",\"comp_cat\"]]\n",
    "comp_dict"
   ]
  },
  {
   "cell_type": "code",
   "execution_count": null,
   "metadata": {},
   "outputs": [],
   "source": [
    "comp_dict = comp_dict.set_index('companyId')"
   ]
  },
  {
   "cell_type": "code",
   "execution_count": null,
   "metadata": {
    "scrolled": true
   },
   "outputs": [],
   "source": [
    "comp_dict.to_dict()"
   ]
  },
  {
   "cell_type": "code",
   "execution_count": null,
   "metadata": {
    "scrolled": false
   },
   "outputs": [],
   "source": [
    "companyId_mapped = features_model5[\"companyId\"].map(comp_dict[\"comp_cat\"])\n",
    "companyId_mapped"
   ]
  },
  {
   "cell_type": "code",
   "execution_count": null,
   "metadata": {
    "scrolled": false
   },
   "outputs": [],
   "source": [
    "features_model5 = features_model5.rename(columns={\"companyId\":\"companyId_\"})\n",
    "features_model5 = features_model5.join(companyId_mapped)\n",
    "features_model5 = features_model5.drop(\"companyId_\", axis=1)\n",
    "features_model5"
   ]
  },
  {
   "cell_type": "markdown",
   "metadata": {},
   "source": [
    "### replace companyId by its mean salary -> didn't work well"
   ]
  },
  {
   "cell_type": "code",
   "execution_count": null,
   "metadata": {
    "scrolled": true
   },
   "outputs": [],
   "source": [
    "comp_sal_dict = df_companies_sorted[[\"companyId\",\"salary\"]]\n",
    "comp_sal_dict"
   ]
  },
  {
   "cell_type": "code",
   "execution_count": null,
   "metadata": {
    "scrolled": true
   },
   "outputs": [],
   "source": [
    "comp_sal_dict = comp_sal_dict.set_index('companyId')\n",
    "comp_sal_dict"
   ]
  },
  {
   "cell_type": "code",
   "execution_count": null,
   "metadata": {},
   "outputs": [],
   "source": [
    "comp_sal_dict.to_dict()"
   ]
  },
  {
   "cell_type": "code",
   "execution_count": null,
   "metadata": {
    "scrolled": true
   },
   "outputs": [],
   "source": [
    "features_model6 = features_model4.join(df[\"companyId\"])\n",
    "features_model6"
   ]
  },
  {
   "cell_type": "code",
   "execution_count": null,
   "metadata": {},
   "outputs": [],
   "source": [
    "companyId_sal_mapped = features_model6[\"companyId\"].map(comp_sal_dict[\"salary\"])\n",
    "companyId_sal_mapped"
   ]
  },
  {
   "cell_type": "code",
   "execution_count": null,
   "metadata": {
    "scrolled": true
   },
   "outputs": [],
   "source": [
    "features_model6 = features_model6.rename(columns={\"companyId\":\"companyId_\"})\n",
    "features_model6 = features_model6.join(companyId_sal_mapped)\n",
    "features_model6 = features_model6.drop(\"companyId_\", axis=1)\n",
    "features_model6"
   ]
  },
  {
   "cell_type": "markdown",
   "metadata": {},
   "source": [
    "### Replace the categorical value to its mean salary"
   ]
  },
  {
   "cell_type": "markdown",
   "metadata": {},
   "source": [
    "### ---- 8 Create models ----"
   ]
  },
  {
   "cell_type": "markdown",
   "metadata": {},
   "source": [
    "## Model 1"
   ]
  },
  {
   "cell_type": "code",
   "execution_count": null,
   "metadata": {
    "scrolled": true
   },
   "outputs": [],
   "source": [
    "from sklearn.linear_model import LinearRegression\n",
    "\n",
    "lin_reg = LinearRegression()\n",
    "lin_reg.fit(features_model1, target_model1)"
   ]
  },
  {
   "cell_type": "code",
   "execution_count": null,
   "metadata": {},
   "outputs": [],
   "source": [
    "some_data = features_model1.iloc[:5]"
   ]
  },
  {
   "cell_type": "code",
   "execution_count": null,
   "metadata": {},
   "outputs": [],
   "source": [
    "some_labels=target_model1.iloc[:5]"
   ]
  },
  {
   "cell_type": "code",
   "execution_count": null,
   "metadata": {
    "scrolled": true
   },
   "outputs": [],
   "source": [
    "print(\"Predictions:\\t\",lin_reg.predict(some_data))"
   ]
  },
  {
   "cell_type": "code",
   "execution_count": null,
   "metadata": {
    "scrolled": true
   },
   "outputs": [],
   "source": [
    "print(\"Labels:\\t\\t\",list(some_labels))"
   ]
  },
  {
   "cell_type": "code",
   "execution_count": null,
   "metadata": {
    "scrolled": true
   },
   "outputs": [],
   "source": [
    "\n",
    "model1_predictions = lin_reg.predict(features_model1)\n",
    "lin_mse = mean_squared_error(target_model1, model1_predictions)\n",
    "lin_mse"
   ]
  },
  {
   "cell_type": "markdown",
   "metadata": {},
   "source": [
    "## Model 2"
   ]
  },
  {
   "cell_type": "code",
   "execution_count": null,
   "metadata": {
    "scrolled": true
   },
   "outputs": [],
   "source": [
    "lin_reg2 = LinearRegression()\n",
    "lin_reg2.fit(features_model1, target_model2)"
   ]
  },
  {
   "cell_type": "code",
   "execution_count": null,
   "metadata": {},
   "outputs": [],
   "source": [
    "model2_predictions = lin_reg2.predict(features_model1)\n",
    "model2_predictions_inv = scaler.inverse_transform(model2_predictions)\n",
    "lin_mse2 = mean_squared_error(target_model1, model2_predictions_inv)\n",
    "lin_mse2"
   ]
  },
  {
   "cell_type": "code",
   "execution_count": null,
   "metadata": {
    "scrolled": false
   },
   "outputs": [],
   "source": [
    "model2_predictions"
   ]
  },
  {
   "cell_type": "code",
   "execution_count": null,
   "metadata": {},
   "outputs": [],
   "source": [
    "model2_predictions_inv "
   ]
  },
  {
   "cell_type": "markdown",
   "metadata": {},
   "source": [
    "## Model 3"
   ]
  },
  {
   "cell_type": "code",
   "execution_count": 73,
   "metadata": {
    "scrolled": true
   },
   "outputs": [
    {
     "data": {
      "text/plain": [
       "LinearRegression(copy_X=True, fit_intercept=True, n_jobs=None, normalize=False)"
      ]
     },
     "execution_count": 73,
     "metadata": {},
     "output_type": "execute_result"
    }
   ],
   "source": [
    "lin_reg3 = LinearRegression()\n",
    "lin_reg3.fit(features_model3, target_model1)"
   ]
  },
  {
   "cell_type": "code",
   "execution_count": 74,
   "metadata": {
    "scrolled": false
   },
   "outputs": [
    {
     "data": {
      "text/plain": [
       "384.38026432578107"
      ]
     },
     "execution_count": 74,
     "metadata": {},
     "output_type": "execute_result"
    }
   ],
   "source": [
    "model3_predictions = lin_reg3.predict(features_model3)\n",
    "lin_mse3 = mean_squared_error(target_model1, model3_predictions)\n",
    "lin_mse3"
   ]
  },
  {
   "cell_type": "markdown",
   "metadata": {},
   "source": [
    "The MSE of model 3 is now 384. This is the best score."
   ]
  },
  {
   "cell_type": "code",
   "execution_count": 74,
   "metadata": {
    "scrolled": true
   },
   "outputs": [
    {
     "data": {
      "text/plain": [
       "15.843779757568374"
      ]
     },
     "execution_count": 74,
     "metadata": {},
     "output_type": "execute_result"
    }
   ],
   "source": [
    "from sklearn.metrics import mean_absolute_error\n",
    "\n",
    "mae = mean_absolute_error(target_model1, model3_predictions)\n",
    "mae"
   ]
  },
  {
   "cell_type": "code",
   "execution_count": 75,
   "metadata": {
    "scrolled": true
   },
   "outputs": [
    {
     "data": {
      "text/plain": [
       "1.237433143018397"
      ]
     },
     "execution_count": 75,
     "metadata": {},
     "output_type": "execute_result"
    }
   ],
   "source": [
    "np.sqrt(lin_mse3)/mae"
   ]
  },
  {
   "cell_type": "code",
   "execution_count": 95,
   "metadata": {},
   "outputs": [],
   "source": [
    "features_model3[\"MFM_buc\"] = features_model3[\"milesFromMetropolis\"] // 20"
   ]
  },
  {
   "cell_type": "code",
   "execution_count": 101,
   "metadata": {},
   "outputs": [
    {
     "data": {
      "text/html": [
       "<div>\n",
       "<style scoped>\n",
       "    .dataframe tbody tr th:only-of-type {\n",
       "        vertical-align: middle;\n",
       "    }\n",
       "\n",
       "    .dataframe tbody tr th {\n",
       "        vertical-align: top;\n",
       "    }\n",
       "\n",
       "    .dataframe thead th {\n",
       "        text-align: right;\n",
       "    }\n",
       "</style>\n",
       "<table border=\"1\" class=\"dataframe\">\n",
       "  <thead>\n",
       "    <tr style=\"text-align: right;\">\n",
       "      <th></th>\n",
       "      <th>milesFromMetropolis</th>\n",
       "      <th>MFM_buc</th>\n",
       "    </tr>\n",
       "  </thead>\n",
       "  <tbody>\n",
       "    <tr>\n",
       "      <td>0</td>\n",
       "      <td>83</td>\n",
       "      <td>4</td>\n",
       "    </tr>\n",
       "    <tr>\n",
       "      <td>1</td>\n",
       "      <td>73</td>\n",
       "      <td>3</td>\n",
       "    </tr>\n",
       "    <tr>\n",
       "      <td>2</td>\n",
       "      <td>38</td>\n",
       "      <td>1</td>\n",
       "    </tr>\n",
       "    <tr>\n",
       "      <td>3</td>\n",
       "      <td>17</td>\n",
       "      <td>0</td>\n",
       "    </tr>\n",
       "    <tr>\n",
       "      <td>4</td>\n",
       "      <td>16</td>\n",
       "      <td>0</td>\n",
       "    </tr>\n",
       "  </tbody>\n",
       "</table>\n",
       "</div>"
      ],
      "text/plain": [
       "   milesFromMetropolis  MFM_buc\n",
       "0                   83        4\n",
       "1                   73        3\n",
       "2                   38        1\n",
       "3                   17        0\n",
       "4                   16        0"
      ]
     },
     "execution_count": 101,
     "metadata": {},
     "output_type": "execute_result"
    }
   ],
   "source": [
    "features_model3[[\"milesFromMetropolis\",\"MFM_buc\"]].head()"
   ]
  },
  {
   "cell_type": "code",
   "execution_count": 96,
   "metadata": {
    "scrolled": true
   },
   "outputs": [
    {
     "data": {
      "text/plain": [
       "LinearRegression(copy_X=True, fit_intercept=True, n_jobs=None, normalize=False)"
      ]
     },
     "execution_count": 96,
     "metadata": {},
     "output_type": "execute_result"
    }
   ],
   "source": [
    "features_model3_1 = features_model3.drop(\"milesFromMetropolis\", axis=1)\n",
    "lin_reg3_1 = LinearRegression()\n",
    "lin_reg3_1.fit(features_model3_1, target_model1)"
   ]
  },
  {
   "cell_type": "code",
   "execution_count": 114,
   "metadata": {},
   "outputs": [
    {
     "data": {
      "text/plain": [
       "389.5912504980699"
      ]
     },
     "execution_count": 114,
     "metadata": {},
     "output_type": "execute_result"
    }
   ],
   "source": [
    "model3_1_predictions = lin_reg3_1.predict(features_model3_1)\n",
    "lin_mse3_1 = mean_squared_error(target_model1, model3_1_predictions)\n",
    "lin_mse3_1"
   ]
  },
  {
   "cell_type": "markdown",
   "metadata": {},
   "source": [
    "## For Tuning Model 3"
   ]
  },
  {
   "cell_type": "code",
   "execution_count": null,
   "metadata": {
    "scrolled": true
   },
   "outputs": [],
   "source": [
    "lin_reg4 = LinearRegression()\n",
    "lin_reg4.fit(features_model4, target_model1)"
   ]
  },
  {
   "cell_type": "code",
   "execution_count": null,
   "metadata": {},
   "outputs": [],
   "source": [
    "model4_predictions = lin_reg4.predict(features_model4)\n",
    "lin_mse4 = mean_squared_error(target_model1, model4_predictions)\n",
    "lin_mse4"
   ]
  },
  {
   "cell_type": "code",
   "execution_count": null,
   "metadata": {
    "scrolled": true
   },
   "outputs": [],
   "source": [
    "lin_reg5 = LinearRegression()\n",
    "lin_reg5.fit(features_model5, target_model1)"
   ]
  },
  {
   "cell_type": "code",
   "execution_count": null,
   "metadata": {
    "scrolled": true
   },
   "outputs": [],
   "source": [
    "model5_predictions = lin_reg5.predict(features_model5)\n",
    "lin_mse5 = mean_squared_error(target_model1, model5_predictions)\n",
    "lin_mse5"
   ]
  },
  {
   "cell_type": "code",
   "execution_count": null,
   "metadata": {
    "scrolled": true
   },
   "outputs": [],
   "source": [
    "lin_reg6 = LinearRegression()\n",
    "lin_reg6.fit(features_model6, target_model1)"
   ]
  },
  {
   "cell_type": "code",
   "execution_count": null,
   "metadata": {
    "scrolled": true
   },
   "outputs": [],
   "source": [
    "model6_predictions = lin_reg6.predict(features_model6)\n",
    "lin_mse6 = mean_squared_error(target_model1, model6_predictions)\n",
    "lin_mse6"
   ]
  },
  {
   "cell_type": "code",
   "execution_count": null,
   "metadata": {
    "scrolled": true
   },
   "outputs": [],
   "source": [
    "lin_reg8 = LinearRegression()\n",
    "lin_reg8.fit(features_model8, target_model1)"
   ]
  },
  {
   "cell_type": "code",
   "execution_count": null,
   "metadata": {},
   "outputs": [],
   "source": [
    "model8_predictions = lin_reg8.predict(features_model8)\n",
    "lin_mse8 = mean_squared_error(target_model1, model8_predictions)\n",
    "lin_mse8"
   ]
  },
  {
   "cell_type": "code",
   "execution_count": 78,
   "metadata": {},
   "outputs": [],
   "source": [
    "from sklearn.linear_model import ElasticNet\n",
    "elastic_net = ElasticNet(alpha=0.1, l1_ratio=0.5)\n",
    "elastic_net.fit(features_model3, target_model1)\n",
    "en_predictions = elastic_net.predict(features_model3)"
   ]
  },
  {
   "cell_type": "code",
   "execution_count": 79,
   "metadata": {},
   "outputs": [
    {
     "data": {
      "text/plain": [
       "434.43596425995804"
      ]
     },
     "execution_count": 79,
     "metadata": {},
     "output_type": "execute_result"
    }
   ],
   "source": [
    "en_mse = mean_squared_error(target_model1, en_predictions)\n",
    "en_mse"
   ]
  },
  {
   "cell_type": "code",
   "execution_count": 82,
   "metadata": {},
   "outputs": [],
   "source": [
    "from sklearn.preprocessing import StandardScaler\n",
    "scaler = StandardScaler()\n",
    "features_model3_scaled = scaler.fit_transform(features_model3)"
   ]
  },
  {
   "cell_type": "code",
   "execution_count": 83,
   "metadata": {
    "scrolled": true
   },
   "outputs": [
    {
     "data": {
      "text/plain": [
       "LinearRegression(copy_X=True, fit_intercept=True, n_jobs=None, normalize=False)"
      ]
     },
     "execution_count": 83,
     "metadata": {},
     "output_type": "execute_result"
    }
   ],
   "source": [
    "lin_reg8 = LinearRegression()\n",
    "lin_reg8.fit(features_model3_scaled, target_model1)"
   ]
  },
  {
   "cell_type": "code",
   "execution_count": 85,
   "metadata": {},
   "outputs": [
    {
     "data": {
      "text/plain": [
       "384.380541447852"
      ]
     },
     "execution_count": 85,
     "metadata": {},
     "output_type": "execute_result"
    }
   ],
   "source": [
    "model8_predictions = lin_reg8.predict(features_model3_scaled)\n",
    "lin_mse8 = mean_squared_error(target_model1, model8_predictions)\n",
    "lin_mse8"
   ]
  },
  {
   "cell_type": "code",
   "execution_count": 75,
   "metadata": {},
   "outputs": [
    {
     "data": {
      "text/plain": [
       "[8.608448028564453,\n",
       " 8.608448028564453,\n",
       " 8.608448028564453,\n",
       " 9.007976531982422,\n",
       " 9.007976531982422,\n",
       " 9.007976531982422,\n",
       " 9.007976531982422,\n",
       " 9.407503128051758,\n",
       " 9.407503128051758,\n",
       " 9.807031631469727,\n",
       " 9.807031631469727,\n",
       " 9.807031631469727,\n",
       " 9.807031631469727,\n",
       " 9.807031631469727,\n",
       " 10.206560134887695,\n",
       " 10.206560134887695,\n",
       " 10.206560134887695,\n",
       " 10.206560134887695,\n",
       " 10.606088638305664,\n",
       " 10.606088638305664,\n",
       " 10.618515014648438,\n",
       " 10.618515014648438,\n",
       " 10.618515014648438,\n",
       " 10.618515014648438,\n",
       " 10.618515014648438,\n",
       " 11.005617141723633,\n",
       " 11.005617141723633,\n",
       " 11.005617141723633,\n",
       " 11.005617141723633,\n",
       " 11.005617141723633,\n",
       " 11.018043518066406,\n",
       " 11.018043518066406,\n",
       " 11.018043518066406,\n",
       " 11.018043518066406,\n",
       " 11.018043518066406,\n",
       " 11.405143737792969,\n",
       " 11.405143737792969,\n",
       " 11.405143737792969,\n",
       " 11.405143737792969,\n",
       " 11.417570114135742,\n",
       " 11.417570114135742,\n",
       " 11.417570114135742,\n",
       " 11.417570114135742,\n",
       " 11.417570114135742,\n",
       " 11.417570114135742,\n",
       " 11.804672241210938,\n",
       " 11.804672241210938,\n",
       " 11.804672241210938,\n",
       " 11.804672241210938,\n",
       " 11.817098617553711,\n",
       " 11.817098617553711,\n",
       " 11.817098617553711,\n",
       " 12.204200744628906,\n",
       " 12.204200744628906,\n",
       " 12.21662712097168,\n",
       " 12.21662712097168,\n",
       " 12.21662712097168,\n",
       " 12.21662712097168,\n",
       " 12.293041229248047,\n",
       " 12.293041229248047,\n",
       " 12.293041229248047,\n",
       " 12.603729248046875,\n",
       " 12.603729248046875,\n",
       " 12.603729248046875,\n",
       " 12.603729248046875,\n",
       " 12.603729248046875,\n",
       " 12.603729248046875,\n",
       " 12.603729248046875,\n",
       " 12.616155624389648,\n",
       " 12.616155624389648,\n",
       " 12.628582000732422,\n",
       " 12.692569732666016,\n",
       " 13.003257751464844,\n",
       " 13.003257751464844,\n",
       " 13.003257751464844,\n",
       " 13.003257751464844,\n",
       " 13.003257751464844,\n",
       " 13.015684127807617,\n",
       " 13.015684127807617,\n",
       " 13.015684127807617,\n",
       " 13.015684127807617,\n",
       " 13.015684127807617,\n",
       " 13.015684127807617,\n",
       " 13.02811050415039,\n",
       " 13.02811050415039,\n",
       " 13.02811050415039,\n",
       " 13.02811050415039,\n",
       " 13.02811050415039,\n",
       " 13.092096328735352,\n",
       " 13.092096328735352,\n",
       " 13.092096328735352,\n",
       " 13.092096328735352,\n",
       " 13.40278434753418,\n",
       " 13.415210723876953,\n",
       " 13.415210723876953,\n",
       " 13.415210723876953,\n",
       " 13.415210723876953,\n",
       " 13.415210723876953,\n",
       " 13.427637100219727,\n",
       " 13.427637100219727,\n",
       " 13.427637100219727,\n",
       " 13.49162483215332,\n",
       " 13.49162483215332,\n",
       " 13.49162483215332,\n",
       " 13.49162483215332,\n",
       " 13.49162483215332,\n",
       " 13.618179321289062,\n",
       " 13.618179321289062,\n",
       " 13.618179321289062,\n",
       " 13.618179321289062,\n",
       " 13.618179321289062,\n",
       " 13.802312850952148,\n",
       " 13.802312850952148,\n",
       " 13.802312850952148,\n",
       " 13.802312850952148,\n",
       " 13.802312850952148,\n",
       " 13.814739227294922,\n",
       " 13.814739227294922,\n",
       " 13.814739227294922,\n",
       " 13.827165603637695,\n",
       " 13.891153335571289,\n",
       " 13.891153335571289,\n",
       " 13.891153335571289,\n",
       " 14.017707824707031,\n",
       " 14.017707824707031,\n",
       " 14.017707824707031,\n",
       " 14.017707824707031,\n",
       " 14.017707824707031,\n",
       " 14.201841354370117,\n",
       " 14.201841354370117,\n",
       " 14.21426773071289,\n",
       " 14.21426773071289,\n",
       " 14.21426773071289,\n",
       " 14.21426773071289,\n",
       " 14.21426773071289,\n",
       " 14.226694107055664,\n",
       " 14.226694107055664,\n",
       " 14.290681838989258,\n",
       " 14.290681838989258,\n",
       " 14.290681838989258,\n",
       " 14.290681838989258,\n",
       " 14.290681838989258,\n",
       " 14.290681838989258,\n",
       " 14.290681838989258,\n",
       " 14.303108215332031,\n",
       " 14.303108215332031,\n",
       " 14.303108215332031,\n",
       " 14.303108215332031,\n",
       " 14.303108215332031,\n",
       " 14.417234420776367,\n",
       " 14.417234420776367,\n",
       " 14.417234420776367,\n",
       " 14.417234420776367,\n",
       " 14.601369857788086,\n",
       " 14.601369857788086,\n",
       " 14.601369857788086,\n",
       " 14.61379623413086,\n",
       " 14.61379623413086,\n",
       " 14.61379623413086,\n",
       " 14.61379623413086,\n",
       " 14.61379623413086,\n",
       " 14.626222610473633,\n",
       " 14.626222610473633,\n",
       " 14.626222610473633,\n",
       " 14.626222610473633,\n",
       " 14.638648986816406,\n",
       " 14.638648986816406,\n",
       " 14.638648986816406,\n",
       " 14.638648986816406,\n",
       " 14.690210342407227,\n",
       " 14.690210342407227,\n",
       " 14.70263671875,\n",
       " 14.70263671875,\n",
       " 14.70263671875,\n",
       " 14.70263671875,\n",
       " 14.70263671875,\n",
       " 14.70263671875,\n",
       " 14.70263671875,\n",
       " 14.816762924194336,\n",
       " 14.816762924194336,\n",
       " 14.816762924194336,\n",
       " 15.000896453857422,\n",
       " 15.013324737548828,\n",
       " 15.013324737548828,\n",
       " 15.025751113891602,\n",
       " 15.038177490234375,\n",
       " 15.038177490234375,\n",
       " 15.089736938476562,\n",
       " 15.089736938476562,\n",
       " 15.089736938476562,\n",
       " 15.089736938476562,\n",
       " 15.089736938476562,\n",
       " 15.102163314819336,\n",
       " 15.216291427612305,\n",
       " 15.216291427612305,\n",
       " 15.216291427612305,\n",
       " 15.216291427612305,\n",
       " 15.216291427612305,\n",
       " 15.216291427612305,\n",
       " 15.40042495727539,\n",
       " 15.40042495727539,\n",
       " 15.40042495727539,\n",
       " 15.40042495727539,\n",
       " 15.412851333618164,\n",
       " 15.412851333618164,\n",
       " 15.412851333618164,\n",
       " 15.412851333618164,\n",
       " 15.412851333618164,\n",
       " 15.425277709960938,\n",
       " 15.425277709960938,\n",
       " 15.425277709960938,\n",
       " 15.437704086303711,\n",
       " 15.437704086303711,\n",
       " 15.437704086303711,\n",
       " 15.437704086303711,\n",
       " 15.437704086303711,\n",
       " 15.489265441894531,\n",
       " 15.489265441894531,\n",
       " 15.489265441894531,\n",
       " 15.489265441894531,\n",
       " 15.489265441894531,\n",
       " 15.489265441894531,\n",
       " 15.489265441894531,\n",
       " 15.501691818237305,\n",
       " 15.501691818237305,\n",
       " 15.501691818237305,\n",
       " 15.615819931030273,\n",
       " 15.615819931030273,\n",
       " 15.615819931030273,\n",
       " 15.628246307373047,\n",
       " 15.628246307373047,\n",
       " 15.79995346069336,\n",
       " 15.79995346069336,\n",
       " 15.824806213378906,\n",
       " 15.824806213378906,\n",
       " 15.83723258972168,\n",
       " 15.83723258972168,\n",
       " 15.83723258972168,\n",
       " 15.83723258972168,\n",
       " 15.8887939453125,\n",
       " 15.8887939453125,\n",
       " 15.8887939453125,\n",
       " 15.901220321655273,\n",
       " 15.901220321655273,\n",
       " 15.901220321655273,\n",
       " 16.015348434448242,\n",
       " 16.015348434448242,\n",
       " 16.015348434448242,\n",
       " 16.015348434448242,\n",
       " 16.027774810791016,\n",
       " 16.027774810791016,\n",
       " 16.027774810791016,\n",
       " 16.199481964111328,\n",
       " 16.199481964111328,\n",
       " 16.199481964111328,\n",
       " 16.2119083404541,\n",
       " 16.2119083404541,\n",
       " 16.2119083404541,\n",
       " 16.2119083404541,\n",
       " 16.2119083404541,\n",
       " 16.224334716796875,\n",
       " 16.224334716796875,\n",
       " 16.224334716796875,\n",
       " 16.23676109313965,\n",
       " 16.23676109313965,\n",
       " 16.28832244873047,\n",
       " 16.28832244873047,\n",
       " 16.28832244873047,\n",
       " 16.300748825073242,\n",
       " 16.300748825073242,\n",
       " 16.313175201416016,\n",
       " 16.414875030517578,\n",
       " 16.42730140686035,\n",
       " 16.42730140686035,\n",
       " 16.599010467529297,\n",
       " 16.61143684387207,\n",
       " 16.61143684387207,\n",
       " 16.623863220214844,\n",
       " 16.623863220214844,\n",
       " 16.636289596557617,\n",
       " 16.636289596557617,\n",
       " 16.636289596557617,\n",
       " 16.648719787597656,\n",
       " 16.648719787597656,\n",
       " 16.648719787597656,\n",
       " 16.648719787597656,\n",
       " 16.648719787597656,\n",
       " 16.648719787597656,\n",
       " 16.648719787597656,\n",
       " 16.648719787597656,\n",
       " 16.687850952148438,\n",
       " 16.687850952148438,\n",
       " 16.687850952148438,\n",
       " 16.687850952148438,\n",
       " 16.70027732849121,\n",
       " 16.70027732849121,\n",
       " 16.70027732849121,\n",
       " 16.70027732849121,\n",
       " 16.712703704833984,\n",
       " 16.814403533935547,\n",
       " 16.814403533935547,\n",
       " 16.814403533935547,\n",
       " 16.82682991027832,\n",
       " 16.82682991027832,\n",
       " 16.998537063598633,\n",
       " 16.998537063598633,\n",
       " 17.010963439941406,\n",
       " 17.010963439941406,\n",
       " 17.010963439941406,\n",
       " 17.023391723632812,\n",
       " 17.023391723632812,\n",
       " 17.023391723632812,\n",
       " 17.023391723632812,\n",
       " 17.035818099975586,\n",
       " 17.035818099975586,\n",
       " 17.048248291015625,\n",
       " 17.048248291015625,\n",
       " 17.048248291015625,\n",
       " 17.048248291015625,\n",
       " 17.087377548217773,\n",
       " 17.087377548217773,\n",
       " 17.087377548217773,\n",
       " 17.087377548217773,\n",
       " 17.087377548217773,\n",
       " 17.099803924560547,\n",
       " 17.099803924560547,\n",
       " 17.099803924560547,\n",
       " 17.099803924560547,\n",
       " 17.11223030090332,\n",
       " 17.11223030090332,\n",
       " 17.213932037353516,\n",
       " 17.22635841369629,\n",
       " 17.22635841369629,\n",
       " 17.22635841369629,\n",
       " 17.302772521972656,\n",
       " 17.302772521972656,\n",
       " 17.302772521972656,\n",
       " 17.3980655670166,\n",
       " 17.3980655670166,\n",
       " 17.3980655670166,\n",
       " 17.410491943359375,\n",
       " 17.410491943359375,\n",
       " 17.410491943359375,\n",
       " 17.410491943359375,\n",
       " 17.410491943359375,\n",
       " 17.410491943359375,\n",
       " 17.410491943359375,\n",
       " 17.410491943359375,\n",
       " 17.42291831970215,\n",
       " 17.42291831970215,\n",
       " 17.42291831970215,\n",
       " 17.42291831970215,\n",
       " 17.435344696044922,\n",
       " 17.435344696044922,\n",
       " 17.435344696044922,\n",
       " 17.435344696044922,\n",
       " 17.435344696044922,\n",
       " 17.435344696044922,\n",
       " 17.44777488708496,\n",
       " 17.486906051635742,\n",
       " 17.486906051635742,\n",
       " 17.486906051635742,\n",
       " 17.499332427978516,\n",
       " 17.499332427978516,\n",
       " 17.499332427978516,\n",
       " 17.499332427978516,\n",
       " 17.51175880432129,\n",
       " 17.51175880432129,\n",
       " 17.613460540771484,\n",
       " 17.613460540771484,\n",
       " 17.625886917114258,\n",
       " 17.625886917114258,\n",
       " 17.625886917114258,\n",
       " 17.63831329345703,\n",
       " 17.63831329345703,\n",
       " 17.63831329345703,\n",
       " 17.63831329345703,\n",
       " 17.702301025390625,\n",
       " 17.702301025390625,\n",
       " 17.702301025390625,\n",
       " 17.702301025390625,\n",
       " 17.79759407043457,\n",
       " 17.79759407043457,\n",
       " 17.79759407043457,\n",
       " 17.79759407043457,\n",
       " 17.810020446777344,\n",
       " 17.810020446777344,\n",
       " 17.810020446777344,\n",
       " 17.822446823120117,\n",
       " 17.822446823120117,\n",
       " 17.83487319946289,\n",
       " 17.83487319946289,\n",
       " 17.83487319946289,\n",
       " 17.83487319946289,\n",
       " 17.84730339050293,\n",
       " 17.84730339050293,\n",
       " 17.84730339050293,\n",
       " 17.84730339050293,\n",
       " 17.88643455505371,\n",
       " 17.898860931396484,\n",
       " 17.898860931396484,\n",
       " 17.898860931396484,\n",
       " 17.898860931396484,\n",
       " 17.898860931396484,\n",
       " 17.898860931396484,\n",
       " 17.911287307739258,\n",
       " 17.911287307739258,\n",
       " 17.911287307739258,\n",
       " 17.911287307739258,\n",
       " 17.911287307739258,\n",
       " 18.012989044189453,\n",
       " 18.012989044189453,\n",
       " 18.012989044189453,\n",
       " 18.012989044189453,\n",
       " 18.012989044189453,\n",
       " 18.025415420532227,\n",
       " 18.037841796875,\n",
       " 18.037841796875,\n",
       " 18.037841796875,\n",
       " 18.037841796875,\n",
       " 18.037841796875,\n",
       " 18.037841796875,\n",
       " 18.10182762145996,\n",
       " 18.10182762145996,\n",
       " 18.19712257385254,\n",
       " 18.19712257385254,\n",
       " 18.19712257385254,\n",
       " 18.19712257385254,\n",
       " 18.209548950195312,\n",
       " 18.209548950195312,\n",
       " 18.209548950195312,\n",
       " 18.209548950195312,\n",
       " 18.221975326538086,\n",
       " 18.221975326538086,\n",
       " 18.221975326538086,\n",
       " 18.23440170288086,\n",
       " 18.2468318939209,\n",
       " 18.2468318939209,\n",
       " 18.2468318939209,\n",
       " 18.28596305847168,\n",
       " 18.28596305847168,\n",
       " 18.28596305847168,\n",
       " 18.28596305847168,\n",
       " 18.28596305847168,\n",
       " 18.28596305847168,\n",
       " 18.28596305847168,\n",
       " 18.298389434814453,\n",
       " 18.298389434814453,\n",
       " 18.298389434814453,\n",
       " 18.298389434814453,\n",
       " 18.298389434814453,\n",
       " 18.298389434814453,\n",
       " 18.310815811157227,\n",
       " 18.3232421875,\n",
       " 18.3232421875,\n",
       " 18.41251564025879,\n",
       " 18.41251564025879,\n",
       " 18.424942016601562,\n",
       " 18.424942016601562,\n",
       " 18.424942016601562,\n",
       " 18.424942016601562,\n",
       " 18.437368392944336,\n",
       " 18.437368392944336,\n",
       " 18.437368392944336,\n",
       " 18.437368392944336,\n",
       " 18.437368392944336,\n",
       " 18.437368392944336,\n",
       " 18.50135612487793,\n",
       " 18.50135612487793,\n",
       " 18.50135612487793,\n",
       " 18.50135612487793,\n",
       " 18.596651077270508,\n",
       " 18.596651077270508,\n",
       " 18.596651077270508,\n",
       " 18.600072860717773,\n",
       " 18.600072860717773,\n",
       " 18.600072860717773,\n",
       " 18.600072860717773,\n",
       " 18.600072860717773,\n",
       " 18.600072860717773,\n",
       " 18.600072860717773,\n",
       " 18.600072860717773,\n",
       " 18.60907745361328,\n",
       " 18.60907745361328,\n",
       " 18.60907745361328,\n",
       " 18.60907745361328,\n",
       " 18.60907745361328,\n",
       " 18.60907745361328,\n",
       " 18.621503829956055,\n",
       " 18.621503829956055,\n",
       " 18.621503829956055,\n",
       " 18.621503829956055,\n",
       " 18.633930206298828,\n",
       " 18.633930206298828,\n",
       " 18.646360397338867,\n",
       " 18.646360397338867,\n",
       " 18.646360397338867,\n",
       " 18.646360397338867,\n",
       " 18.65878677368164,\n",
       " 18.685489654541016,\n",
       " 18.685489654541016,\n",
       " 18.685489654541016,\n",
       " 18.685489654541016,\n",
       " 18.685489654541016,\n",
       " 18.697917938232422,\n",
       " 18.697917938232422,\n",
       " 18.697917938232422,\n",
       " 18.697917938232422,\n",
       " 18.697917938232422,\n",
       " 18.710344314575195,\n",
       " 18.710344314575195,\n",
       " 18.710344314575195,\n",
       " 18.710344314575195,\n",
       " 18.72277069091797,\n",
       " 18.812044143676758,\n",
       " 18.812044143676758,\n",
       " 18.82447052001953,\n",
       " 18.82447052001953,\n",
       " 18.82447052001953,\n",
       " 18.82447052001953,\n",
       " 18.82447052001953,\n",
       " 18.82447052001953,\n",
       " 18.836896896362305,\n",
       " 18.836896896362305,\n",
       " 18.836896896362305,\n",
       " 18.836896896362305,\n",
       " 18.9008846282959,\n",
       " 18.9008846282959,\n",
       " 18.9008846282959,\n",
       " 18.9008846282959,\n",
       " 18.9008846282959,\n",
       " 18.9008846282959,\n",
       " 18.996177673339844,\n",
       " 18.996177673339844,\n",
       " 18.996177673339844,\n",
       " 18.996177673339844,\n",
       " 18.996177673339844,\n",
       " 18.999601364135742,\n",
       " 18.999601364135742,\n",
       " 18.999601364135742,\n",
       " 19.008604049682617,\n",
       " 19.008604049682617,\n",
       " 19.008604049682617,\n",
       " 19.008604049682617,\n",
       " 19.02103042602539,\n",
       " 19.02103042602539,\n",
       " 19.02103042602539,\n",
       " 19.033458709716797,\n",
       " 19.033458709716797,\n",
       " 19.033458709716797,\n",
       " 19.045888900756836,\n",
       " 19.045888900756836,\n",
       " 19.045888900756836,\n",
       " 19.05831527709961,\n",
       " 19.05831527709961,\n",
       " 19.05831527709961,\n",
       " 19.085018157958984,\n",
       " 19.085018157958984,\n",
       " 19.085018157958984,\n",
       " 19.085018157958984,\n",
       " 19.085018157958984,\n",
       " 19.085018157958984,\n",
       " 19.097444534301758,\n",
       " 19.097444534301758,\n",
       " 19.097444534301758,\n",
       " 19.10987091064453,\n",
       " 19.10987091064453,\n",
       " 19.10987091064453,\n",
       " 19.10987091064453,\n",
       " 19.10987091064453,\n",
       " 19.10987091064453,\n",
       " 19.10987091064453,\n",
       " 19.122297286987305,\n",
       " 19.122297286987305,\n",
       " 19.122297286987305,\n",
       " 19.122297286987305,\n",
       " 19.211572647094727,\n",
       " 19.211572647094727,\n",
       " 19.211572647094727,\n",
       " 19.2239990234375,\n",
       " 19.2239990234375,\n",
       " 19.236425399780273,\n",
       " 19.236425399780273,\n",
       " 19.236425399780273,\n",
       " 19.236425399780273,\n",
       " 19.236425399780273,\n",
       " 19.236425399780273,\n",
       " 19.236425399780273,\n",
       " 19.236425399780273,\n",
       " 19.300413131713867,\n",
       " 19.300413131713867,\n",
       " 19.300413131713867,\n",
       " 19.31283950805664,\n",
       " 19.31283950805664,\n",
       " 19.31283950805664,\n",
       " 19.31283950805664,\n",
       " 19.31283950805664,\n",
       " 19.395706176757812,\n",
       " 19.395706176757812,\n",
       " 19.395706176757812,\n",
       " 19.395706176757812,\n",
       " 19.395706176757812,\n",
       " 19.395706176757812,\n",
       " 19.399127960205078,\n",
       " 19.408132553100586,\n",
       " 19.408132553100586,\n",
       " 19.408132553100586,\n",
       " 19.408132553100586,\n",
       " 19.408132553100586,\n",
       " 19.408132553100586,\n",
       " 19.408132553100586,\n",
       " 19.42055892944336,\n",
       " 19.42055892944336,\n",
       " 19.42055892944336,\n",
       " 19.432985305786133,\n",
       " 19.432985305786133,\n",
       " 19.432985305786133,\n",
       " 19.432985305786133,\n",
       " 19.432985305786133,\n",
       " 19.432985305786133,\n",
       " 19.445415496826172,\n",
       " 19.445415496826172,\n",
       " 19.457841873168945,\n",
       " 19.457841873168945,\n",
       " 19.457841873168945,\n",
       " 19.457841873168945,\n",
       " 19.457841873168945,\n",
       " 19.484546661376953,\n",
       " 19.484546661376953,\n",
       " 19.484546661376953,\n",
       " 19.484546661376953,\n",
       " 19.496973037719727,\n",
       " 19.496973037719727,\n",
       " 19.496973037719727,\n",
       " 19.496973037719727,\n",
       " 19.5093994140625,\n",
       " 19.5093994140625,\n",
       " 19.521825790405273,\n",
       " 19.611101150512695,\n",
       " 19.611101150512695,\n",
       " 19.611101150512695,\n",
       " 19.611101150512695,\n",
       " 19.611101150512695,\n",
       " 19.611101150512695,\n",
       " 19.611101150512695,\n",
       " 19.62352752685547,\n",
       " 19.62352752685547,\n",
       " 19.62352752685547,\n",
       " 19.62352752685547,\n",
       " 19.62352752685547,\n",
       " 19.62352752685547,\n",
       " 19.62352752685547,\n",
       " 19.62352752685547,\n",
       " 19.635953903198242,\n",
       " 19.635953903198242,\n",
       " 19.648380279541016,\n",
       " 19.648380279541016,\n",
       " 19.648380279541016,\n",
       " 19.648380279541016,\n",
       " 19.699941635131836,\n",
       " 19.699941635131836,\n",
       " 19.699941635131836,\n",
       " 19.699941635131836,\n",
       " 19.699941635131836,\n",
       " 19.699941635131836,\n",
       " 19.699941635131836,\n",
       " 19.71236801147461,\n",
       " 19.71236801147461,\n",
       " 19.71236801147461,\n",
       " 19.79523468017578,\n",
       " 19.79523468017578,\n",
       " 19.79523468017578,\n",
       " 19.798656463623047,\n",
       " 19.798656463623047,\n",
       " 19.798656463623047,\n",
       " 19.798656463623047,\n",
       " 19.807661056518555,\n",
       " 19.807661056518555,\n",
       " 19.807661056518555,\n",
       " 19.820087432861328,\n",
       " 19.820087432861328,\n",
       " 19.820087432861328,\n",
       " 19.820087432861328,\n",
       " 19.8325138092041,\n",
       " 19.8325138092041,\n",
       " 19.84494400024414,\n",
       " 19.84494400024414,\n",
       " 19.84494400024414,\n",
       " 19.857370376586914,\n",
       " 19.857370376586914,\n",
       " 19.857370376586914,\n",
       " 19.857370376586914,\n",
       " 19.857370376586914,\n",
       " 19.884075164794922,\n",
       " 19.884075164794922,\n",
       " 19.884075164794922,\n",
       " 19.896501541137695,\n",
       " 19.896501541137695,\n",
       " 19.90892791748047,\n",
       " 19.90892791748047,\n",
       " 19.90892791748047,\n",
       " 19.90892791748047,\n",
       " 19.921354293823242,\n",
       " 19.921354293823242,\n",
       " 20.01062774658203,\n",
       " 20.01062774658203,\n",
       " 20.01062774658203,\n",
       " 20.01062774658203,\n",
       " 20.023056030273438,\n",
       " 20.023056030273438,\n",
       " 20.023056030273438,\n",
       " 20.023056030273438,\n",
       " 20.023056030273438,\n",
       " 20.023056030273438,\n",
       " 20.03548240661621,\n",
       " 20.03548240661621,\n",
       " 20.03548240661621,\n",
       " 20.03548240661621,\n",
       " 20.047908782958984,\n",
       " 20.047908782958984,\n",
       " 20.047908782958984,\n",
       " 20.099468231201172,\n",
       " 20.099468231201172,\n",
       " 20.111894607543945,\n",
       " 20.19476318359375,\n",
       " 20.19476318359375,\n",
       " 20.19476318359375,\n",
       " 20.19476318359375,\n",
       " 20.19476318359375,\n",
       " 20.198184967041016,\n",
       " 20.198184967041016,\n",
       " 20.198184967041016,\n",
       " 20.198184967041016,\n",
       " 20.207189559936523,\n",
       " 20.207189559936523,\n",
       " 20.207189559936523,\n",
       " 20.219615936279297,\n",
       " 20.219615936279297,\n",
       " 20.219615936279297,\n",
       " 20.23204231262207,\n",
       " 20.23204231262207,\n",
       " 20.23204231262207,\n",
       " 20.23204231262207,\n",
       " 20.23204231262207,\n",
       " 20.23204231262207,\n",
       " 20.24447250366211,\n",
       " 20.24447250366211,\n",
       " 20.256898880004883,\n",
       " 20.256898880004883,\n",
       " 20.256898880004883,\n",
       " 20.256898880004883,\n",
       " 20.28360366821289,\n",
       " 20.28360366821289,\n",
       " 20.296030044555664,\n",
       " 20.296030044555664,\n",
       " 20.296030044555664,\n",
       " 20.308456420898438,\n",
       " 20.308456420898438,\n",
       " 20.308456420898438,\n",
       " 20.308456420898438,\n",
       " 20.308456420898438,\n",
       " 20.308456420898438,\n",
       " 20.308456420898438,\n",
       " 20.32088279724121,\n",
       " 20.33331298828125,\n",
       " 20.33331298828125,\n",
       " 20.33331298828125,\n",
       " 20.33331298828125,\n",
       " 20.41015625,\n",
       " 20.41015625,\n",
       " 20.41015625,\n",
       " 20.41015625,\n",
       " 20.41015625,\n",
       " 20.422582626342773,\n",
       " 20.422582626342773,\n",
       " 20.422582626342773,\n",
       " 20.435009002685547,\n",
       " 20.44743537902832,\n",
       " 20.44743537902832,\n",
       " 20.49899673461914,\n",
       " 20.49899673461914,\n",
       " 20.49899673461914,\n",
       " 20.49899673461914,\n",
       " 20.49899673461914,\n",
       " 20.511423110961914,\n",
       " 20.511423110961914,\n",
       " 20.511423110961914,\n",
       " 20.511423110961914,\n",
       " 20.59429168701172,\n",
       " 20.59429168701172,\n",
       " 20.59429168701172,\n",
       " 20.59429168701172,\n",
       " 20.59429168701172,\n",
       " 20.597713470458984,\n",
       " 20.597713470458984,\n",
       " 20.597713470458984,\n",
       " 20.606718063354492,\n",
       " 20.606718063354492,\n",
       " 20.606718063354492,\n",
       " 20.606718063354492,\n",
       " 20.606718063354492,\n",
       " 20.610139846801758,\n",
       " 20.610139846801758,\n",
       " 20.610139846801758,\n",
       " 20.610139846801758,\n",
       " 20.619144439697266,\n",
       " 20.619144439697266,\n",
       " 20.619144439697266,\n",
       " 20.619144439697266,\n",
       " 20.63157081604004,\n",
       " 20.63157081604004,\n",
       " 20.63157081604004,\n",
       " 20.63157081604004,\n",
       " 20.63157081604004,\n",
       " 20.644001007080078,\n",
       " 20.644001007080078,\n",
       " 20.644001007080078,\n",
       " 20.65642738342285,\n",
       " 20.65642738342285,\n",
       " 20.65642738342285,\n",
       " 20.668853759765625,\n",
       " 20.668853759765625,\n",
       " 20.668853759765625,\n",
       " 20.668853759765625,\n",
       " 20.668853759765625,\n",
       " 20.683130264282227,\n",
       " 20.683130264282227,\n",
       " 20.683130264282227,\n",
       " 20.683130264282227,\n",
       " 20.683130264282227,\n",
       " 20.695556640625,\n",
       " 20.695556640625,\n",
       " 20.695556640625,\n",
       " 20.695556640625,\n",
       " 20.695556640625,\n",
       " 20.707984924316406,\n",
       " 20.707984924316406,\n",
       " 20.707984924316406,\n",
       " 20.707984924316406,\n",
       " 20.72041130065918,\n",
       " 20.72041130065918,\n",
       " 20.72041130065918,\n",
       " 20.73284149169922,\n",
       " 20.73284149169922,\n",
       " 20.73284149169922,\n",
       " 20.80968475341797,\n",
       " 20.822111129760742,\n",
       " 20.822111129760742,\n",
       " 20.822111129760742,\n",
       " 20.822111129760742,\n",
       " 20.834537506103516,\n",
       " 20.84696388244629,\n",
       " 20.84696388244629,\n",
       " 20.84696388244629,\n",
       " 20.84696388244629,\n",
       " 20.84696388244629,\n",
       " 20.89852523803711,\n",
       " 20.89852523803711,\n",
       " 20.89852523803711,\n",
       " 20.89852523803711,\n",
       " 20.89852523803711,\n",
       " 20.89852523803711,\n",
       " 20.910951614379883,\n",
       " 20.910951614379883,\n",
       " 20.910951614379883,\n",
       " 20.993818283081055,\n",
       " 20.993818283081055,\n",
       " 20.997241973876953,\n",
       " 20.997241973876953,\n",
       " 20.997241973876953,\n",
       " 20.997241973876953,\n",
       " 20.997241973876953,\n",
       " 20.997241973876953,\n",
       " 21.006244659423828,\n",
       " 21.006244659423828,\n",
       " 21.006244659423828,\n",
       " 21.009668350219727,\n",
       " 21.009668350219727,\n",
       " 21.009668350219727,\n",
       " 21.009668350219727,\n",
       " 21.0186710357666,\n",
       " 21.0186710357666,\n",
       " 21.0186710357666,\n",
       " 21.0186710357666,\n",
       " 21.031097412109375,\n",
       " 21.031097412109375,\n",
       " 21.031097412109375,\n",
       " 21.031097412109375,\n",
       " 21.031097412109375,\n",
       " 21.031097412109375,\n",
       " 21.043529510498047,\n",
       " 21.043529510498047,\n",
       " 21.043529510498047,\n",
       " 21.043529510498047,\n",
       " 21.05595588684082,\n",
       " 21.05595588684082,\n",
       " 21.068382263183594,\n",
       " 21.068382263183594,\n",
       " 21.082658767700195,\n",
       " 21.082658767700195,\n",
       " 21.082658767700195,\n",
       " 21.082658767700195,\n",
       " 21.09508514404297,\n",
       " 21.09508514404297,\n",
       " 21.09508514404297,\n",
       " 21.107511520385742,\n",
       " 21.107511520385742,\n",
       " 21.107511520385742,\n",
       " 21.107511520385742,\n",
       " 21.107511520385742,\n",
       " 21.107511520385742,\n",
       " 21.119937896728516,\n",
       " 21.119937896728516,\n",
       " 21.119937896728516,\n",
       " 21.132368087768555,\n",
       " 21.132368087768555,\n",
       " 21.132368087768555,\n",
       " 21.209213256835938,\n",
       " 21.209213256835938,\n",
       " 21.209213256835938,\n",
       " 21.234066009521484,\n",
       " 21.246492385864258,\n",
       " 21.246492385864258,\n",
       " 21.298053741455078,\n",
       " 21.298053741455078,\n",
       " 21.298053741455078,\n",
       " 21.298053741455078,\n",
       " 21.31048011779785,\n",
       " 21.31048011779785,\n",
       " 21.31048011779785,\n",
       " 21.322906494140625,\n",
       " 21.393346786499023,\n",
       " 21.393346786499023,\n",
       " 21.39676856994629,\n",
       " 21.39676856994629,\n",
       " 21.39676856994629,\n",
       " 21.39676856994629,\n",
       " 21.405773162841797,\n",
       " 21.405773162841797,\n",
       " 21.409194946289062,\n",
       " 21.409194946289062,\n",
       " 21.41819953918457,\n",
       " 21.41819953918457,\n",
       " 21.41819953918457,\n",
       " 21.41819953918457,\n",
       " 21.41819953918457,\n",
       " 21.430625915527344,\n",
       " 21.430625915527344,\n",
       " 21.430625915527344,\n",
       " 21.443056106567383,\n",
       " 21.443056106567383,\n",
       " 21.443056106567383,\n",
       " 21.443056106567383,\n",
       " 21.443056106567383,\n",
       " 21.443056106567383,\n",
       " 21.443056106567383,\n",
       " 21.455482482910156,\n",
       " 21.46790885925293,\n",
       " 21.46790885925293,\n",
       " 21.46790885925293,\n",
       " 21.46790885925293,\n",
       " 21.482187271118164,\n",
       " 21.482187271118164,\n",
       " 21.494613647460938,\n",
       " 21.494613647460938,\n",
       " 21.50704002380371,\n",
       " 21.519466400146484,\n",
       " 21.519466400146484,\n",
       " 21.519466400146484,\n",
       " 21.531896591186523,\n",
       " 21.531896591186523,\n",
       " 21.57276153564453,\n",
       " 21.608741760253906,\n",
       " 21.608741760253906,\n",
       " 21.608741760253906,\n",
       " 21.608741760253906,\n",
       " 21.608741760253906,\n",
       " 21.62116813659668,\n",
       " 21.62116813659668,\n",
       " 21.62116813659668,\n",
       " 21.633594512939453,\n",
       " 21.646020889282227,\n",
       " 21.646020889282227,\n",
       " 21.646020889282227,\n",
       " 21.646020889282227,\n",
       " 21.658451080322266,\n",
       " 21.658451080322266,\n",
       " 21.658451080322266,\n",
       " 21.658451080322266,\n",
       " 21.658451080322266,\n",
       " 21.658451080322266,\n",
       " 21.697582244873047,\n",
       " 21.697582244873047,\n",
       " 21.697582244873047,\n",
       " 21.697582244873047,\n",
       " 21.697582244873047,\n",
       " 21.697582244873047,\n",
       " 21.71000862121582,\n",
       " 21.722434997558594,\n",
       " 21.722434997558594,\n",
       " ...]"
      ]
     },
     "execution_count": 75,
     "metadata": {},
     "output_type": "execute_result"
    }
   ],
   "source": [
    "model3_predictions_sort = sorted(model3_predictions)\n",
    "model3_predictions_sort"
   ]
  },
  {
   "cell_type": "code",
   "execution_count": 76,
   "metadata": {},
   "outputs": [],
   "source": [
    "import numpy\n",
    "sort_index = numpy.argsort(model3_predictions)\n",
    "target_model1_sorted = []\n",
    "for i in sort_index:\n",
    "    target_model1_sorted.append(target_model1)"
   ]
  },
  {
   "cell_type": "code",
   "execution_count": 133,
   "metadata": {},
   "outputs": [
    {
     "data": {
      "text/plain": [
       "999995"
      ]
     },
     "execution_count": 133,
     "metadata": {},
     "output_type": "execute_result"
    }
   ],
   "source": [
    "len(model3_predictions_sort)"
   ]
  },
  {
   "cell_type": "code",
   "execution_count": null,
   "metadata": {},
   "outputs": [],
   "source": [
    "model3_residual =[]\n",
    "for j in range(len(model3_predictions_sort)):\n",
    "    model3_residual.append(model3_predictions_sort[j] - target_model1_sorted[j])"
   ]
  },
  {
   "cell_type": "code",
   "execution_count": null,
   "metadata": {},
   "outputs": [],
   "source": [
    "plt.plot(model3_residual)"
   ]
  },
  {
   "cell_type": "markdown",
   "metadata": {},
   "source": [
    "### Removing outliers -> didn't work well"
   ]
  },
  {
   "cell_type": "code",
   "execution_count": 362,
   "metadata": {
    "scrolled": true
   },
   "outputs": [],
   "source": [
    "df_model3_mod = features_model3.join(target_model1)\n",
    "df_model3_mod = df_model3_mod [df_model3_mod['salary']<232.1]"
   ]
  },
  {
   "cell_type": "code",
   "execution_count": 363,
   "metadata": {},
   "outputs": [],
   "source": [
    "target_model3_mod = df_model3_mod['salary']\n",
    "features_model3_mod = df_model3_mod.drop(\"salary\",axis=1)"
   ]
  },
  {
   "cell_type": "code",
   "execution_count": 369,
   "metadata": {},
   "outputs": [
    {
     "data": {
      "text/html": [
       "<div>\n",
       "<style scoped>\n",
       "    .dataframe tbody tr th:only-of-type {\n",
       "        vertical-align: middle;\n",
       "    }\n",
       "\n",
       "    .dataframe tbody tr th {\n",
       "        vertical-align: top;\n",
       "    }\n",
       "\n",
       "    .dataframe thead th {\n",
       "        text-align: right;\n",
       "    }\n",
       "</style>\n",
       "<table border=\"1\" class=\"dataframe\">\n",
       "  <thead>\n",
       "    <tr style=\"text-align: right;\">\n",
       "      <th></th>\n",
       "      <th>yearsExperience</th>\n",
       "      <th>CEO</th>\n",
       "      <th>CFO</th>\n",
       "      <th>CTO</th>\n",
       "      <th>JANITOR</th>\n",
       "      <th>JUNIOR</th>\n",
       "      <th>MANAGER</th>\n",
       "      <th>SENIOR</th>\n",
       "      <th>VICE_PRESIDENT</th>\n",
       "      <th>BACHELORS</th>\n",
       "      <th>...</th>\n",
       "      <th>WEB</th>\n",
       "      <th>BIOLOGY</th>\n",
       "      <th>BUSINESS</th>\n",
       "      <th>CHEMISTRY</th>\n",
       "      <th>COMPSCI</th>\n",
       "      <th>ENGINEERING</th>\n",
       "      <th>LITERATURE</th>\n",
       "      <th>MATH</th>\n",
       "      <th>NONE</th>\n",
       "      <th>PHYSICS</th>\n",
       "    </tr>\n",
       "  </thead>\n",
       "  <tbody>\n",
       "    <tr>\n",
       "      <td>0</td>\n",
       "      <td>10</td>\n",
       "      <td>0</td>\n",
       "      <td>1</td>\n",
       "      <td>0</td>\n",
       "      <td>0</td>\n",
       "      <td>0</td>\n",
       "      <td>0</td>\n",
       "      <td>0</td>\n",
       "      <td>0</td>\n",
       "      <td>0</td>\n",
       "      <td>...</td>\n",
       "      <td>0</td>\n",
       "      <td>0</td>\n",
       "      <td>0</td>\n",
       "      <td>0</td>\n",
       "      <td>0</td>\n",
       "      <td>0</td>\n",
       "      <td>0</td>\n",
       "      <td>1</td>\n",
       "      <td>0</td>\n",
       "      <td>0</td>\n",
       "    </tr>\n",
       "    <tr>\n",
       "      <td>1</td>\n",
       "      <td>3</td>\n",
       "      <td>1</td>\n",
       "      <td>0</td>\n",
       "      <td>0</td>\n",
       "      <td>0</td>\n",
       "      <td>0</td>\n",
       "      <td>0</td>\n",
       "      <td>0</td>\n",
       "      <td>0</td>\n",
       "      <td>0</td>\n",
       "      <td>...</td>\n",
       "      <td>1</td>\n",
       "      <td>0</td>\n",
       "      <td>0</td>\n",
       "      <td>0</td>\n",
       "      <td>0</td>\n",
       "      <td>0</td>\n",
       "      <td>0</td>\n",
       "      <td>0</td>\n",
       "      <td>1</td>\n",
       "      <td>0</td>\n",
       "    </tr>\n",
       "    <tr>\n",
       "      <td>2</td>\n",
       "      <td>10</td>\n",
       "      <td>0</td>\n",
       "      <td>0</td>\n",
       "      <td>0</td>\n",
       "      <td>0</td>\n",
       "      <td>0</td>\n",
       "      <td>0</td>\n",
       "      <td>0</td>\n",
       "      <td>1</td>\n",
       "      <td>0</td>\n",
       "      <td>...</td>\n",
       "      <td>0</td>\n",
       "      <td>0</td>\n",
       "      <td>0</td>\n",
       "      <td>0</td>\n",
       "      <td>0</td>\n",
       "      <td>0</td>\n",
       "      <td>0</td>\n",
       "      <td>0</td>\n",
       "      <td>0</td>\n",
       "      <td>1</td>\n",
       "    </tr>\n",
       "    <tr>\n",
       "      <td>3</td>\n",
       "      <td>8</td>\n",
       "      <td>0</td>\n",
       "      <td>0</td>\n",
       "      <td>0</td>\n",
       "      <td>0</td>\n",
       "      <td>0</td>\n",
       "      <td>1</td>\n",
       "      <td>0</td>\n",
       "      <td>0</td>\n",
       "      <td>0</td>\n",
       "      <td>...</td>\n",
       "      <td>0</td>\n",
       "      <td>0</td>\n",
       "      <td>0</td>\n",
       "      <td>1</td>\n",
       "      <td>0</td>\n",
       "      <td>0</td>\n",
       "      <td>0</td>\n",
       "      <td>0</td>\n",
       "      <td>0</td>\n",
       "      <td>0</td>\n",
       "    </tr>\n",
       "    <tr>\n",
       "      <td>4</td>\n",
       "      <td>8</td>\n",
       "      <td>0</td>\n",
       "      <td>0</td>\n",
       "      <td>0</td>\n",
       "      <td>0</td>\n",
       "      <td>0</td>\n",
       "      <td>0</td>\n",
       "      <td>0</td>\n",
       "      <td>1</td>\n",
       "      <td>1</td>\n",
       "      <td>...</td>\n",
       "      <td>0</td>\n",
       "      <td>0</td>\n",
       "      <td>0</td>\n",
       "      <td>0</td>\n",
       "      <td>0</td>\n",
       "      <td>0</td>\n",
       "      <td>0</td>\n",
       "      <td>0</td>\n",
       "      <td>0</td>\n",
       "      <td>1</td>\n",
       "    </tr>\n",
       "    <tr>\n",
       "      <td>...</td>\n",
       "      <td>...</td>\n",
       "      <td>...</td>\n",
       "      <td>...</td>\n",
       "      <td>...</td>\n",
       "      <td>...</td>\n",
       "      <td>...</td>\n",
       "      <td>...</td>\n",
       "      <td>...</td>\n",
       "      <td>...</td>\n",
       "      <td>...</td>\n",
       "      <td>...</td>\n",
       "      <td>...</td>\n",
       "      <td>...</td>\n",
       "      <td>...</td>\n",
       "      <td>...</td>\n",
       "      <td>...</td>\n",
       "      <td>...</td>\n",
       "      <td>...</td>\n",
       "      <td>...</td>\n",
       "      <td>...</td>\n",
       "      <td>...</td>\n",
       "    </tr>\n",
       "    <tr>\n",
       "      <td>999990</td>\n",
       "      <td>19</td>\n",
       "      <td>0</td>\n",
       "      <td>0</td>\n",
       "      <td>0</td>\n",
       "      <td>0</td>\n",
       "      <td>0</td>\n",
       "      <td>0</td>\n",
       "      <td>0</td>\n",
       "      <td>1</td>\n",
       "      <td>1</td>\n",
       "      <td>...</td>\n",
       "      <td>0</td>\n",
       "      <td>0</td>\n",
       "      <td>0</td>\n",
       "      <td>1</td>\n",
       "      <td>0</td>\n",
       "      <td>0</td>\n",
       "      <td>0</td>\n",
       "      <td>0</td>\n",
       "      <td>0</td>\n",
       "      <td>0</td>\n",
       "    </tr>\n",
       "    <tr>\n",
       "      <td>999991</td>\n",
       "      <td>12</td>\n",
       "      <td>0</td>\n",
       "      <td>0</td>\n",
       "      <td>1</td>\n",
       "      <td>0</td>\n",
       "      <td>0</td>\n",
       "      <td>0</td>\n",
       "      <td>0</td>\n",
       "      <td>0</td>\n",
       "      <td>0</td>\n",
       "      <td>...</td>\n",
       "      <td>0</td>\n",
       "      <td>0</td>\n",
       "      <td>0</td>\n",
       "      <td>0</td>\n",
       "      <td>0</td>\n",
       "      <td>0</td>\n",
       "      <td>0</td>\n",
       "      <td>0</td>\n",
       "      <td>1</td>\n",
       "      <td>0</td>\n",
       "    </tr>\n",
       "    <tr>\n",
       "      <td>999992</td>\n",
       "      <td>16</td>\n",
       "      <td>0</td>\n",
       "      <td>0</td>\n",
       "      <td>0</td>\n",
       "      <td>0</td>\n",
       "      <td>1</td>\n",
       "      <td>0</td>\n",
       "      <td>0</td>\n",
       "      <td>0</td>\n",
       "      <td>0</td>\n",
       "      <td>...</td>\n",
       "      <td>0</td>\n",
       "      <td>0</td>\n",
       "      <td>0</td>\n",
       "      <td>0</td>\n",
       "      <td>0</td>\n",
       "      <td>0</td>\n",
       "      <td>0</td>\n",
       "      <td>0</td>\n",
       "      <td>1</td>\n",
       "      <td>0</td>\n",
       "    </tr>\n",
       "    <tr>\n",
       "      <td>999993</td>\n",
       "      <td>6</td>\n",
       "      <td>0</td>\n",
       "      <td>1</td>\n",
       "      <td>0</td>\n",
       "      <td>0</td>\n",
       "      <td>0</td>\n",
       "      <td>0</td>\n",
       "      <td>0</td>\n",
       "      <td>0</td>\n",
       "      <td>0</td>\n",
       "      <td>...</td>\n",
       "      <td>0</td>\n",
       "      <td>0</td>\n",
       "      <td>0</td>\n",
       "      <td>0</td>\n",
       "      <td>0</td>\n",
       "      <td>0</td>\n",
       "      <td>0</td>\n",
       "      <td>0</td>\n",
       "      <td>1</td>\n",
       "      <td>0</td>\n",
       "    </tr>\n",
       "    <tr>\n",
       "      <td>999994</td>\n",
       "      <td>20</td>\n",
       "      <td>0</td>\n",
       "      <td>0</td>\n",
       "      <td>0</td>\n",
       "      <td>0</td>\n",
       "      <td>1</td>\n",
       "      <td>0</td>\n",
       "      <td>0</td>\n",
       "      <td>0</td>\n",
       "      <td>1</td>\n",
       "      <td>...</td>\n",
       "      <td>0</td>\n",
       "      <td>0</td>\n",
       "      <td>0</td>\n",
       "      <td>0</td>\n",
       "      <td>0</td>\n",
       "      <td>0</td>\n",
       "      <td>0</td>\n",
       "      <td>0</td>\n",
       "      <td>1</td>\n",
       "      <td>0</td>\n",
       "    </tr>\n",
       "  </tbody>\n",
       "</table>\n",
       "<p>996783 rows × 31 columns</p>\n",
       "</div>"
      ],
      "text/plain": [
       "        yearsExperience  CEO  CFO  CTO  JANITOR  JUNIOR  MANAGER  SENIOR  \\\n",
       "0                    10    0    1    0        0       0        0       0   \n",
       "1                     3    1    0    0        0       0        0       0   \n",
       "2                    10    0    0    0        0       0        0       0   \n",
       "3                     8    0    0    0        0       0        1       0   \n",
       "4                     8    0    0    0        0       0        0       0   \n",
       "...                 ...  ...  ...  ...      ...     ...      ...     ...   \n",
       "999990               19    0    0    0        0       0        0       0   \n",
       "999991               12    0    0    1        0       0        0       0   \n",
       "999992               16    0    0    0        0       1        0       0   \n",
       "999993                6    0    1    0        0       0        0       0   \n",
       "999994               20    0    0    0        0       1        0       0   \n",
       "\n",
       "        VICE_PRESIDENT  BACHELORS  ...  WEB  BIOLOGY  BUSINESS  CHEMISTRY  \\\n",
       "0                    0          0  ...    0        0         0          0   \n",
       "1                    0          0  ...    1        0         0          0   \n",
       "2                    1          0  ...    0        0         0          0   \n",
       "3                    0          0  ...    0        0         0          1   \n",
       "4                    1          1  ...    0        0         0          0   \n",
       "...                ...        ...  ...  ...      ...       ...        ...   \n",
       "999990               1          1  ...    0        0         0          1   \n",
       "999991               0          0  ...    0        0         0          0   \n",
       "999992               0          0  ...    0        0         0          0   \n",
       "999993               0          0  ...    0        0         0          0   \n",
       "999994               0          1  ...    0        0         0          0   \n",
       "\n",
       "        COMPSCI  ENGINEERING  LITERATURE  MATH  NONE  PHYSICS  \n",
       "0             0            0           0     1     0        0  \n",
       "1             0            0           0     0     1        0  \n",
       "2             0            0           0     0     0        1  \n",
       "3             0            0           0     0     0        0  \n",
       "4             0            0           0     0     0        1  \n",
       "...         ...          ...         ...   ...   ...      ...  \n",
       "999990        0            0           0     0     0        0  \n",
       "999991        0            0           0     0     1        0  \n",
       "999992        0            0           0     0     1        0  \n",
       "999993        0            0           0     0     1        0  \n",
       "999994        0            0           0     0     1        0  \n",
       "\n",
       "[996783 rows x 31 columns]"
      ]
     },
     "execution_count": 369,
     "metadata": {},
     "output_type": "execute_result"
    }
   ],
   "source": [
    "features_model3_mod"
   ]
  },
  {
   "cell_type": "code",
   "execution_count": 401,
   "metadata": {
    "scrolled": true
   },
   "outputs": [
    {
     "data": {
      "text/plain": [
       "LinearRegression(copy_X=True, fit_intercept=True, n_jobs=None, normalize=False)"
      ]
     },
     "execution_count": 401,
     "metadata": {},
     "output_type": "execute_result"
    }
   ],
   "source": [
    "lin_reg7 = LinearRegression()\n",
    "lin_reg7.fit(features_model3_mod, target_model3_mod)"
   ]
  },
  {
   "cell_type": "code",
   "execution_count": 403,
   "metadata": {},
   "outputs": [
    {
     "data": {
      "text/plain": [
       "384.6223952427876"
      ]
     },
     "execution_count": 403,
     "metadata": {},
     "output_type": "execute_result"
    }
   ],
   "source": [
    "model7_predictions = lin_reg7.predict(features_model3)\n",
    "lin_mse7 = mean_squared_error(target_model1, model7_predictions)\n",
    "lin_mse7"
   ]
  },
  {
   "cell_type": "code",
   "execution_count": 443,
   "metadata": {
    "scrolled": true
   },
   "outputs": [
    {
     "data": {
      "text/plain": [
       "LinearRegression(copy_X=True, fit_intercept=True, n_jobs=None, normalize=False)"
      ]
     },
     "execution_count": 443,
     "metadata": {},
     "output_type": "execute_result"
    }
   ],
   "source": [
    "lin_reg9= LinearRegression()\n",
    "lin_reg9.fit(df_model3_rev, target_model1)"
   ]
  },
  {
   "cell_type": "code",
   "execution_count": 445,
   "metadata": {},
   "outputs": [
    {
     "data": {
      "text/plain": [
       "397.0924202873576"
      ]
     },
     "execution_count": 445,
     "metadata": {},
     "output_type": "execute_result"
    }
   ],
   "source": [
    "model9_predictions = lin_reg9.predict(df_model3_rev)\n",
    "lin_mse9 = mean_squared_error(target_model1, model9_predictions)\n",
    "lin_mse9"
   ]
  },
  {
   "cell_type": "markdown",
   "metadata": {},
   "source": [
    "## Random Forest"
   ]
  },
  {
   "cell_type": "code",
   "execution_count": 323,
   "metadata": {
    "scrolled": true
   },
   "outputs": [
    {
     "name": "stderr",
     "output_type": "stream",
     "text": [
      "/Users/tomokrmr/opt/anaconda3/lib/python3.7/site-packages/sklearn/ensemble/forest.py:245: FutureWarning: The default value of n_estimators will change from 10 in version 0.20 to 100 in 0.22.\n",
      "  \"10 in version 0.20 to 100 in 0.22.\", FutureWarning)\n"
     ]
    }
   ],
   "source": [
    "from sklearn.ensemble import RandomForestRegressor\n",
    "forest_reg = RandomForestRegressor()\n",
    "forest_reg.fit(features_model3, target_model1)\n",
    "predictions_model3_random = forest_reg.predict(features_model3)\n",
    "forest_mse = mean_squared_error(target_model1, predictions_model3_random)"
   ]
  },
  {
   "cell_type": "code",
   "execution_count": 324,
   "metadata": {
    "scrolled": true
   },
   "outputs": [
    {
     "data": {
      "text/plain": [
       "134.95122092262267"
      ]
     },
     "execution_count": 324,
     "metadata": {},
     "output_type": "execute_result"
    }
   ],
   "source": [
    "forest_mse"
   ]
  },
  {
   "cell_type": "code",
   "execution_count": 375,
   "metadata": {
    "scrolled": true
   },
   "outputs": [
    {
     "name": "stdout",
     "output_type": "stream",
     "text": [
      "Scores: 134.95122092262267\n",
      "Mean: 134.95122092262267\n",
      "Standard deviation: 0.0\n"
     ]
    }
   ],
   "source": [
    "def display_scores(scores):\n",
    "    print(\"Scores:\", scores)\n",
    "    print(\"Mean:\", scores.mean())\n",
    "    print(\"Standard deviation:\", scores.std())\n",
    "    \n",
    "display_scores(forest_mse)"
   ]
  },
  {
   "cell_type": "markdown",
   "metadata": {},
   "source": [
    "### Stochastic Gradient Descent"
   ]
  },
  {
   "cell_type": "code",
   "execution_count": 87,
   "metadata": {
    "scrolled": true
   },
   "outputs": [
    {
     "name": "stderr",
     "output_type": "stream",
     "text": [
      "/Users/tomokrmr/opt/anaconda3/lib/python3.7/site-packages/sklearn/linear_model/stochastic_gradient.py:1185: ConvergenceWarning: Maximum number of iteration reached before convergence. Consider increasing max_iter to improve the fit.\n",
      "  ConvergenceWarning)\n"
     ]
    },
    {
     "data": {
      "text/plain": [
       "SGDRegressor(alpha=0.0001, average=False, early_stopping=False, epsilon=0.1,\n",
       "             eta0=0.1, fit_intercept=True, l1_ratio=0.15,\n",
       "             learning_rate='invscaling', loss='squared_loss', max_iter=50,\n",
       "             n_iter_no_change=5, penalty=None, power_t=0.25, random_state=None,\n",
       "             shuffle=True, tol=0.001, validation_fraction=0.1, verbose=0,\n",
       "             warm_start=False)"
      ]
     },
     "execution_count": 87,
     "metadata": {},
     "output_type": "execute_result"
    }
   ],
   "source": [
    "from sklearn.linear_model import SGDRegressor\n",
    "sgd_reg = SGDRegressor(max_iter=50, penalty=None ,eta0=0.1)\n",
    "sgd_reg.fit(features_model3_scaled,target_model1)"
   ]
  },
  {
   "cell_type": "code",
   "execution_count": 89,
   "metadata": {
    "scrolled": true
   },
   "outputs": [
    {
     "data": {
      "text/plain": [
       "389.4430739941548"
      ]
     },
     "execution_count": 89,
     "metadata": {},
     "output_type": "execute_result"
    }
   ],
   "source": [
    "predictions_model3_sgd = sgd_reg.predict(features_model3_scaled)\n",
    "sgd_mse = mean_squared_error(target_model1, predictions_model3_sgd)\n",
    "sgd_mse"
   ]
  },
  {
   "cell_type": "markdown",
   "metadata": {},
   "source": [
    "## SVR"
   ]
  },
  {
   "cell_type": "code",
   "execution_count": 90,
   "metadata": {
    "scrolled": true
   },
   "outputs": [
    {
     "data": {
      "text/plain": [
       "LinearSVR(C=1.0, dual=True, epsilon=1.5, fit_intercept=True,\n",
       "          intercept_scaling=1.0, loss='epsilon_insensitive', max_iter=1000,\n",
       "          random_state=None, tol=0.0001, verbose=0)"
      ]
     },
     "execution_count": 90,
     "metadata": {},
     "output_type": "execute_result"
    }
   ],
   "source": [
    "from sklearn.svm import LinearSVR\n",
    "svm_reg = LinearSVR(epsilon=1.5)\n",
    "svm_reg.fit(features_model3_scaled,target_model1)"
   ]
  },
  {
   "cell_type": "code",
   "execution_count": 93,
   "metadata": {},
   "outputs": [
    {
     "data": {
      "text/plain": [
       "385.5129823946531"
      ]
     },
     "execution_count": 93,
     "metadata": {},
     "output_type": "execute_result"
    }
   ],
   "source": [
    "predictions_model3_svr = svm_reg.predict(features_model3_scaled)\n",
    "svr_mse = mean_squared_error(target_model1, predictions_model3_svr)\n",
    "svr_mse"
   ]
  },
  {
   "cell_type": "markdown",
   "metadata": {},
   "source": [
    "### ---- 9 Test models ----"
   ]
  },
  {
   "cell_type": "code",
   "execution_count": 1,
   "metadata": {},
   "outputs": [],
   "source": [
    "#do 5-fold cross validation on models and measure MSE"
   ]
  },
  {
   "cell_type": "code",
   "execution_count": 405,
   "metadata": {
    "scrolled": true
   },
   "outputs": [
    {
     "data": {
      "text/plain": [
       "array([-386.30917173, -385.19183317, -385.99246987, -382.57079642,\n",
       "       -382.00745833])"
      ]
     },
     "execution_count": 405,
     "metadata": {},
     "output_type": "execute_result"
    }
   ],
   "source": [
    "Rcross3 = sk.model_selection.cross_val_score(lin_reg3,features_model3,target_model1, cv=5,scoring='neg_mean_squared_error')\n",
    "Rcross3"
   ]
  },
  {
   "cell_type": "code",
   "execution_count": 372,
   "metadata": {},
   "outputs": [
    {
     "name": "stdout",
     "output_type": "stream",
     "text": [
      "Scores: [0.74292573 0.74358062 0.74314533 0.74396891 0.74415407]\n",
      "Mean: 0.7435549329385215\n",
      "Standard deviation: 0.0004679036282042437\n"
     ]
    }
   ],
   "source": [
    "display_scores(Rcross3)"
   ]
  },
  {
   "cell_type": "code",
   "execution_count": 327,
   "metadata": {
    "scrolled": true
   },
   "outputs": [
    {
     "data": {
      "text/plain": [
       "array([0.68816648, 0.68870888, 0.68820546, 0.68795427, 0.68855794])"
      ]
     },
     "execution_count": 327,
     "metadata": {},
     "output_type": "execute_result"
    }
   ],
   "source": [
    "Rcross3_random = sk.model_selection.cross_val_score(forest_reg,features_model3,target_model1, cv=5)\n",
    "Rcross3_random"
   ]
  },
  {
   "cell_type": "code",
   "execution_count": null,
   "metadata": {},
   "outputs": [],
   "source": [
    "Rcross3_random_mse = sk.model_selection.cross_val_score(forest_reg,features_model3,target_model1, cv=5,scoring='neg_mean_squared_error')\n",
    "Rcross3_random_mse"
   ]
  },
  {
   "cell_type": "code",
   "execution_count": 373,
   "metadata": {},
   "outputs": [
    {
     "name": "stdout",
     "output_type": "stream",
     "text": [
      "Scores: [0.68816648 0.68870888 0.68820546 0.68795427 0.68855794]\n",
      "Mean: 0.68831860765828\n",
      "Standard deviation: 0.0002750546056104389\n"
     ]
    }
   ],
   "source": [
    "display_scores(Rcross3_random)"
   ]
  },
  {
   "cell_type": "code",
   "execution_count": 368,
   "metadata": {},
   "outputs": [
    {
     "data": {
      "text/plain": [
       "array([0.74292573, 0.74358062, 0.74314533, 0.74396891, 0.74415407])"
      ]
     },
     "execution_count": 368,
     "metadata": {},
     "output_type": "execute_result"
    }
   ],
   "source": [
    "Rcross7 = sk.model_selection.cross_val_score(lin_reg7,features_model3,target_model1, cv=5)\n",
    "Rcross7"
   ]
  },
  {
   "cell_type": "code",
   "execution_count": 226,
   "metadata": {
    "scrolled": true
   },
   "outputs": [
    {
     "data": {
      "text/plain": [
       "384.38026432578107"
      ]
     },
     "execution_count": 226,
     "metadata": {},
     "output_type": "execute_result"
    }
   ],
   "source": [
    "# Caluculate MSE\n",
    "y_hat_model3=lin_reg3.predict(features_model3)\n",
    "\n",
    "sk.metrics.mean_squared_error(y_hat_model3,target_model1)"
   ]
  },
  {
   "cell_type": "markdown",
   "metadata": {},
   "source": [
    "### ---- 10 Select best model  ----"
   ]
  },
  {
   "cell_type": "code",
   "execution_count": null,
   "metadata": {},
   "outputs": [],
   "source": [
    "#select the model with the lowest error as your \"prodcuction\" model"
   ]
  },
  {
   "cell_type": "markdown",
   "metadata": {},
   "source": [
    "## Part 4 - DEPLOY"
   ]
  },
  {
   "cell_type": "markdown",
   "metadata": {},
   "source": [
    "### ---- 11 Automate pipeline ----"
   ]
  },
  {
   "cell_type": "code",
   "execution_count": null,
   "metadata": {},
   "outputs": [],
   "source": [
    "#write script that trains model on entire training set, saves model to disk,\n",
    "#and scores the \"test\" dataset"
   ]
  },
  {
   "cell_type": "markdown",
   "metadata": {},
   "source": [
    "### ---- 12 Deploy solution ----"
   ]
  },
  {
   "cell_type": "code",
   "execution_count": 16,
   "metadata": {},
   "outputs": [],
   "source": [
    "#save your prediction to a csv file or optionally save them as a table in a SQL database\n",
    "#additionally, you want to save a visualization and summary of your prediction and feature importances\n",
    "#these visualizations and summaries will be extremely useful to business stakeholders"
   ]
  },
  {
   "cell_type": "markdown",
   "metadata": {},
   "source": [
    "### ---- 13 Measure efficacy ----"
   ]
  },
  {
   "cell_type": "markdown",
   "metadata": {},
   "source": [
    "We'll skip this step since we don't have the outcomes for the test data"
   ]
  },
  {
   "cell_type": "code",
   "execution_count": null,
   "metadata": {},
   "outputs": [],
   "source": []
  },
  {
   "cell_type": "code",
   "execution_count": null,
   "metadata": {},
   "outputs": [],
   "source": []
  },
  {
   "cell_type": "code",
   "execution_count": null,
   "metadata": {},
   "outputs": [],
   "source": []
  },
  {
   "cell_type": "code",
   "execution_count": null,
   "metadata": {},
   "outputs": [],
   "source": []
  }
 ],
 "metadata": {
  "kernelspec": {
   "display_name": "Python 3",
   "language": "python",
   "name": "python3"
  },
  "language_info": {
   "codemirror_mode": {
    "name": "ipython",
    "version": 3
   },
   "file_extension": ".py",
   "mimetype": "text/x-python",
   "name": "python",
   "nbconvert_exporter": "python",
   "pygments_lexer": "ipython3",
   "version": "3.7.4"
  }
 },
 "nbformat": 4,
 "nbformat_minor": 2
}
